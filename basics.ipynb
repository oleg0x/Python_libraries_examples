{
  "nbformat": 4,
  "nbformat_minor": 0,
  "metadata": {
    "colab": {
      "provenance": [],
      "gpuType": "T4"
    },
    "kernelspec": {
      "name": "python3",
      "display_name": "Python 3"
    },
    "language_info": {
      "name": "python"
    },
    "accelerator": "GPU"
  },
  "cells": [
    {
      "cell_type": "code",
      "execution_count": 7,
      "metadata": {
        "id": "aSqAUaA3r7EJ"
      },
      "outputs": [],
      "source": [
        "import torch"
      ]
    },
    {
      "cell_type": "code",
      "execution_count": 8,
      "metadata": {
        "colab": {
          "base_uri": "https://localhost:8080/"
        },
        "outputId": "f02a40d3-2f9b-4597-c051-5199851a7460",
        "id": "AoE323x0uxwT"
      },
      "outputs": [
        {
          "output_type": "stream",
          "name": "stdout",
          "text": [
            "tensor([4.8591e-26])\n",
            "4.859136657128551e-26\n",
            "tensor([4.8592e-26, 4.4829e-41, 1.4214e-33, 0.0000e+00, 1.5277e-23])\n",
            "tensor([[7.5841e-34, 1.7096e-43, 1.1757e-35, 7.5833e-34],\n",
            "        [1.1756e-35, 7.5833e-34, 1.7096e-43, 4.1170e-42],\n",
            "        [3.7583e-42, 4.1170e-42, 3.7583e-42, 4.8387e-42]])\n",
            "<class 'torch.Tensor'>\n"
          ]
        }
      ],
      "source": [
        "# Tensor filled with uninitialized data\n",
        "a = torch.empty(1)        # Single-element tensor\n",
        "val = a.item()            # Value of that tensor\n",
        "b = torch.empty(5)        # Vector of lenght 5 as tensor\n",
        "c = torch.empty(3, 4)     # 3x4 matrix as tensor\n",
        "d = torch.empty(2,2,2,3)  # 4 dim tensor\n",
        "print(a)\n",
        "print(val)\n",
        "print(b)\n",
        "print(c)\n",
        "print(type(d))"
      ]
    },
    {
      "cell_type": "code",
      "source": [
        "d = torch.zeros(2, 4)    # Tensor filled with value 0\n",
        "e = torch.ones(2, 4)     # Tensor filled with value 1\n",
        "print(d)\n",
        "print(e)\n",
        "\n",
        "data = [[1, 2, 3],[4, 5, 6]]\n",
        "x_data = torch.tensor(data)    # Tensor from list\n",
        "print(x_data)"
      ],
      "metadata": {
        "colab": {
          "base_uri": "https://localhost:8080/"
        },
        "id": "VdOhZ_y8uRm9",
        "outputId": "e4791bda-6fb1-4120-944b-0da9d6f29097"
      },
      "execution_count": 9,
      "outputs": [
        {
          "output_type": "stream",
          "name": "stdout",
          "text": [
            "tensor([[0., 0., 0., 0.],\n",
            "        [0., 0., 0., 0.]])\n",
            "tensor([[1., 1., 1., 1.],\n",
            "        [1., 1., 1., 1.]])\n",
            "tensor([[1, 2, 3],\n",
            "        [4, 5, 6]])\n"
          ]
        }
      ]
    },
    {
      "cell_type": "code",
      "source": [
        "x = torch.rand(3, 5)  # Tensor filled with random numbers from a uniform distribution on [0, 1)\n",
        "print(x)\n",
        "print(x.dtype)\n",
        "\n",
        "y = torch.randint(1, 100, (3, 5))  # Tensor filled with random integers generated uniformly from [low, high)\n",
        "print(y)\n",
        "print(x.dtype)"
      ],
      "metadata": {
        "colab": {
          "base_uri": "https://localhost:8080/"
        },
        "id": "A5hAdeCvtPyq",
        "outputId": "0588771b-8501-428b-9aa4-f2e668879038"
      },
      "execution_count": 10,
      "outputs": [
        {
          "output_type": "stream",
          "name": "stdout",
          "text": [
            "tensor([[0.6117, 0.8653, 0.6500, 0.1106, 0.7379],\n",
            "        [0.2284, 0.5667, 0.8635, 0.6502, 0.2021],\n",
            "        [0.4684, 0.4033, 0.9139, 0.5837, 0.2244]])\n",
            "torch.float32\n",
            "tensor([[68, 70, 14, 11, 65],\n",
            "        [ 1, 31, 52, 60, 93],\n",
            "        [13, 75, 65, 95,  9]])\n",
            "torch.float32\n"
          ]
        }
      ]
    },
    {
      "cell_type": "code",
      "source": [
        "print(x.size())\n",
        "print(x.shape)"
      ],
      "metadata": {
        "colab": {
          "base_uri": "https://localhost:8080/"
        },
        "id": "EnSje6Qet_2p",
        "outputId": "ea548ef0-5422-4789-87f2-7bc6f7938f25"
      },
      "execution_count": 11,
      "outputs": [
        {
          "output_type": "stream",
          "name": "stdout",
          "text": [
            "torch.Size([3, 5])\n",
            "torch.Size([3, 5])\n"
          ]
        }
      ]
    },
    {
      "cell_type": "code",
      "source": [
        "'''\n",
        "PyTorch has 12 different data types:\n",
        "\n",
        "torch.bool\n",
        "\n",
        "torch.uint8\n",
        "torch.int8\n",
        "torch.int16 (torch.short)\n",
        "torch.int32 (torch.int)\n",
        "torch.int64 (torch.long)\n",
        "\n",
        "torch.bfloat16\n",
        "torch.float16 (torch.half)\n",
        "torch.float32 (torch.float)\n",
        "torch.float64 (torch.double)\n",
        "\n",
        "torch.complex64 (torch.cfloat)\n",
        "torch.complex128 (torch.cdouble)\n",
        "'''"
      ],
      "metadata": {
        "id": "3UiupONS3XoA"
      },
      "execution_count": null,
      "outputs": []
    },
    {
      "cell_type": "code",
      "source": [
        "# Specify data types\n",
        "b = torch.ones(5, dtype=torch.bool)\n",
        "print(b)\n",
        "c = torch.ones(5, dtype=torch.int32)\n",
        "print(c)\n",
        "x = torch.rand(5, dtype=torch.float16)\n",
        "print(x)\n",
        "x = torch.rand(5, dtype=torch.torch.bfloat16)\n",
        "print(x)\n"
      ],
      "metadata": {
        "colab": {
          "base_uri": "https://localhost:8080/"
        },
        "id": "duGW5JlpwYY3",
        "outputId": "870791c4-e138-4064-db90-374b8a151825"
      },
      "execution_count": 13,
      "outputs": [
        {
          "output_type": "stream",
          "name": "stdout",
          "text": [
            "tensor([True, True, True, True, True])\n",
            "tensor([1, 1, 1, 1, 1], dtype=torch.int32)\n",
            "tensor([0.6943, 0.6880, 0.2866, 0.0576, 0.6147], dtype=torch.float16)\n",
            "tensor([0.7578, 0.4961, 0.2617, 0.6523, 0.1641], dtype=torch.bfloat16)\n"
          ]
        }
      ]
    },
    {
      "cell_type": "code",
      "source": [
        "t = torch.tensor([[1, 2, 3, 4], [5, 6, 7, 8], [9, 10, 11, 12], [13, 14, 15, 16]])\n",
        "print(t)\n",
        "print(f\"First row: {t[0, :]}\")         # Or simply t[0]\n",
        "print(f\"First column: {t[:, 0]}\")\n",
        "print(f\"Last row: {t[-1, ...]}\")\n",
        "print(f\"Last column: {t[..., -1]}\")\n",
        "\n",
        "t[:, 2] = 0\n",
        "print(t)"
      ],
      "metadata": {
        "colab": {
          "base_uri": "https://localhost:8080/"
        },
        "id": "P9uKiDDLgNus",
        "outputId": "58c9007a-5b13-4e13-a565-49b29ffd4324"
      },
      "execution_count": 14,
      "outputs": [
        {
          "output_type": "stream",
          "name": "stdout",
          "text": [
            "tensor([[ 1,  2,  3,  4],\n",
            "        [ 5,  6,  7,  8],\n",
            "        [ 9, 10, 11, 12],\n",
            "        [13, 14, 15, 16]])\n",
            "First row: tensor([1, 2, 3, 4])\n",
            "First column: tensor([ 1,  5,  9, 13])\n",
            "Last row: tensor([13, 14, 15, 16])\n",
            "Last column: tensor([ 4,  8, 12, 16])\n",
            "tensor([[ 1,  2,  0,  4],\n",
            "        [ 5,  6,  0,  8],\n",
            "        [ 9, 10,  0, 12],\n",
            "        [13, 14,  0, 16]])\n"
          ]
        }
      ]
    },
    {
      "cell_type": "code",
      "source": [
        "x = torch.randint(-5, 6, (2, 2))\n",
        "y = torch.randint(-5, 6, (2, 2))\n",
        "print(x)\n",
        "print(y)\n",
        "\n",
        "# Element-wise operations\n",
        "z1 = x + y;  z1 = torch.add(x, y)\n",
        "z2 = x - y;  z2 = torch.sub(x, y)\n",
        "z3 = x * y;  z3 = torch.mul(x, y)\n",
        "z4 = x / y;  z4 = torch.div(x, y)\n",
        "\n",
        "print(\"Add:\", z1)\n",
        "print(\"Sub:\", z2)\n",
        "print(\"Mul:\", z3)\n",
        "print(\"Div:\", z4)\n",
        "\n",
        "y.add_(x)    # y += x\n",
        "y.sub_(x)    # y -= x\n",
        "y.mul_(x)    # y *= x\n",
        "#y.div_(x)    # y /= x"
      ],
      "metadata": {
        "colab": {
          "base_uri": "https://localhost:8080/"
        },
        "id": "vFaMNd-o0pv-",
        "outputId": "a529b2e1-325a-4d9b-d355-64eb7d3751de"
      },
      "execution_count": 15,
      "outputs": [
        {
          "output_type": "stream",
          "name": "stdout",
          "text": [
            "tensor([[ 2,  1],\n",
            "        [ 0, -5]])\n",
            "tensor([[-1, -4],\n",
            "        [-4, -3]])\n",
            "Add: tensor([[ 1, -3],\n",
            "        [-4, -8]])\n",
            "Sub: tensor([[ 3,  5],\n",
            "        [ 4, -2]])\n",
            "Mul: tensor([[-2, -4],\n",
            "        [ 0, 15]])\n",
            "Div: tensor([[-2.0000, -0.2500],\n",
            "        [-0.0000,  1.6667]])\n"
          ]
        },
        {
          "output_type": "execute_result",
          "data": {
            "text/plain": [
              "tensor([[-2, -4],\n",
              "        [ 0, 15]])"
            ]
          },
          "metadata": {},
          "execution_count": 15
        }
      ]
    },
    {
      "cell_type": "code",
      "source": [
        "x = torch.randint(-5, 6, (2, 3), dtype=torch.int32)\n",
        "y = torch.randint(-5, 6, (3, 2), dtype=torch.int32)\n",
        "print(x)\n",
        "print(y)\n",
        "\n",
        "# Matrix multiplication\n",
        "z1 = x @ y\n",
        "z2 = x.matmul(y)\n",
        "z3 = torch.empty(2, 2, dtype=torch.int32)\n",
        "torch.matmul(x, y, out=z3)\n",
        "print(z1)\n",
        "print(z2)\n",
        "print(z3)\n",
        "torch.testing.assert_close(z1, z2)\n",
        "torch.testing.assert_close(z1, z3)"
      ],
      "metadata": {
        "colab": {
          "base_uri": "https://localhost:8080/"
        },
        "id": "f1NKtupLxA1d",
        "outputId": "360ab81b-276d-4018-c324-03280f3e78e9"
      },
      "execution_count": 16,
      "outputs": [
        {
          "output_type": "stream",
          "name": "stdout",
          "text": [
            "tensor([[ 3,  0,  1],\n",
            "        [-2,  0, -1]], dtype=torch.int32)\n",
            "tensor([[-4,  5],\n",
            "        [ 3, -4],\n",
            "        [ 2, -3]], dtype=torch.int32)\n",
            "tensor([[-10,  12],\n",
            "        [  6,  -7]], dtype=torch.int32)\n",
            "tensor([[-10,  12],\n",
            "        [  6,  -7]], dtype=torch.int32)\n",
            "tensor([[-10,  12],\n",
            "        [  6,  -7]], dtype=torch.int32)\n"
          ]
        }
      ]
    },
    {
      "cell_type": "code",
      "source": [
        "x = x = torch.randint(-5, 6, (3, 4), dtype=torch.int32)    # 3 x 4 = 12\n",
        "x1 = x.view(2, 6)         # 2 x 6 = 12\n",
        "x2 = x.view(12)           # 12\n",
        "print(x)\n",
        "print(x1)\n",
        "print(x2)\n",
        "\n",
        "x = torch.arange(16)      # Tensor filled with 0, 1, ..., 15\n",
        "y = x.view(2, -1)         # -1 will be changed to 8, 2 x 8 = 16\n",
        "print('\\n', x)\n",
        "print(y)"
      ],
      "metadata": {
        "colab": {
          "base_uri": "https://localhost:8080/"
        },
        "id": "ov7TwdQik2o_",
        "outputId": "38f2f460-fc7c-438e-dba8-2cd6eedbc3a9"
      },
      "execution_count": 17,
      "outputs": [
        {
          "output_type": "stream",
          "name": "stdout",
          "text": [
            "tensor([[-2,  2, -4, -2],\n",
            "        [ 1,  2,  4, -3],\n",
            "        [-3,  4, -5, -3]], dtype=torch.int32)\n",
            "tensor([[-2,  2, -4, -2,  1,  2],\n",
            "        [ 4, -3, -3,  4, -5, -3]], dtype=torch.int32)\n",
            "tensor([-2,  2, -4, -2,  1,  2,  4, -3, -3,  4, -5, -3], dtype=torch.int32)\n",
            "\n",
            " tensor([ 0,  1,  2,  3,  4,  5,  6,  7,  8,  9, 10, 11, 12, 13, 14, 15])\n",
            "tensor([[ 0,  1,  2,  3,  4,  5,  6,  7],\n",
            "        [ 8,  9, 10, 11, 12, 13, 14, 15]])\n"
          ]
        }
      ]
    },
    {
      "cell_type": "code",
      "source": [
        "x = torch.rand(1, 3)\n",
        "x = x.to(\"cpu\")         # Move tensor to CPU device\n",
        "print(x)\n",
        "x = x.to(\"cuda\")        # Move tensor to GPU device\n",
        "print(x)\n",
        "\n",
        "dev = torch.device('cuda' if torch.cuda.is_available() else 'cpu')\n",
        "y = torch.rand(1, 3).to(dev)    # Move tensor to GPU, if available\n",
        "print(y)\n",
        "\n",
        "z = torch.rand(1, 3, device=\"cuda\")    # Create tensor on GPU\n",
        "print(z)"
      ],
      "metadata": {
        "colab": {
          "base_uri": "https://localhost:8080/"
        },
        "id": "ZeBuuLut1mlF",
        "outputId": "d5c02e4a-d4c3-42c0-b983-569e3ecb2ef2"
      },
      "execution_count": 18,
      "outputs": [
        {
          "output_type": "stream",
          "name": "stdout",
          "text": [
            "tensor([[0.9966, 0.0407, 0.8454]])\n",
            "tensor([[0.9966, 0.0407, 0.8454]], device='cuda:0')\n",
            "tensor([[0.9462, 0.4413, 0.7053]], device='cuda:0')\n",
            "tensor([[0.1539, 0.8222, 0.8198]], device='cuda:0')\n"
          ]
        }
      ]
    },
    {
      "cell_type": "code",
      "source": [
        "x = torch.randn(3, requires_grad=True)\n",
        "print(x)       # Created by the user, grad_fn is None\n",
        "print(x.grad_fn)\n",
        "y = 2*x + 3    # y is created as a result of operations, so it has a grad_fn\n",
        "print(y)\n",
        "print(y.grad_fn)"
      ],
      "metadata": {
        "colab": {
          "base_uri": "https://localhost:8080/"
        },
        "id": "Wt5euB7X3PKH",
        "outputId": "906e1159-6843-4545-8d7f-c240442139ee"
      },
      "execution_count": 19,
      "outputs": [
        {
          "output_type": "stream",
          "name": "stdout",
          "text": [
            "tensor([-0.8743,  1.2765, -1.3801], requires_grad=True)\n",
            "None\n",
            "tensor([1.2513, 5.5529, 0.2398], grad_fn=<AddBackward0>)\n",
            "<AddBackward0 object at 0x7cf618addc30>\n"
          ]
        }
      ]
    },
    {
      "cell_type": "code",
      "source": [
        "a = torch.randn(2, 2)\n",
        "print(a.requires_grad)\n",
        "a.requires_grad_(True)\n",
        "print(a.requires_grad)\n",
        "b = (a * a).sum()\n",
        "print(b.grad_fn)\n",
        "\n",
        "a = torch.randn(2, 2, requires_grad=True)\n",
        "b = a.detach()    # New tensor with the same content but no gradient computation\n",
        "print(\"a.requires_grad:\", a.requires_grad)\n",
        "print(\"b.requires_grad:\", b.requires_grad)\n",
        "\n",
        "with torch.no_grad():\n",
        "    b = a**2 + 1\n",
        "    print(b.requires_grad)"
      ],
      "metadata": {
        "colab": {
          "base_uri": "https://localhost:8080/"
        },
        "id": "kMQf1v_eWorv",
        "outputId": "14c66a9f-8b5c-46ea-dec6-3ba898dbc3c7"
      },
      "execution_count": 20,
      "outputs": [
        {
          "output_type": "stream",
          "name": "stdout",
          "text": [
            "False\n",
            "True\n",
            "<SumBackward0 object at 0x7cf619596260>\n",
            "a.requires_grad: True\n",
            "b.requires_grad: False\n",
            "False\n"
          ]
        }
      ]
    },
    {
      "cell_type": "code",
      "source": [
        "print(x.grad)\n",
        "y.backward(x)    # backward() _accumulates_ the gradient for this tensor into .grad attribute\n",
        "print(x.grad)    # dy/dx"
      ],
      "metadata": {
        "colab": {
          "base_uri": "https://localhost:8080/"
        },
        "id": "RzSLXs2USRjW",
        "outputId": "2d298e12-9cd8-43ad-c317-52dc6b6f2d9a"
      },
      "execution_count": 21,
      "outputs": [
        {
          "output_type": "stream",
          "name": "stdout",
          "text": [
            "None\n",
            "tensor([-1.7487,  2.5529, -2.7602])\n"
          ]
        }
      ]
    }
  ]
}