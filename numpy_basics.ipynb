{
  "nbformat": 4,
  "nbformat_minor": 0,
  "metadata": {
    "colab": {
      "provenance": [],
      "toc_visible": true,
      "authorship_tag": "ABX9TyMxFJj3R7DjtZsguPiRb94U",
      "include_colab_link": true
    },
    "kernelspec": {
      "name": "python3",
      "display_name": "Python 3"
    },
    "language_info": {
      "name": "python"
    }
  },
  "cells": [
    {
      "cell_type": "markdown",
      "metadata": {
        "id": "view-in-github",
        "colab_type": "text"
      },
      "source": [
        "<a href=\"https://colab.research.google.com/github/oleg0x/Python_libraries_examples/blob/main/numpy_basics.ipynb\" target=\"_parent\"><img src=\"https://colab.research.google.com/assets/colab-badge.svg\" alt=\"Open In Colab\"/></a>"
      ]
    },
    {
      "cell_type": "markdown",
      "source": [
        "The core feature of NumPy is its ndarray object — a powerful N-dimensional array that allows storage and manipulation of large datasets in memory more efficiently than standard Python lists.\n",
        "\n",
        "Homogeneous: All elements must be of the same data type (e.g., float, int, bool).\n",
        "\n",
        "Fixed-size: Unlike Python lists, NumPy arrays have a fixed size at creation.\n",
        "\n",
        "Memory-efficient: Takes less space than Python lists due to contiguous memory al"
      ],
      "metadata": {
        "id": "y0a5fq7NzcSl"
      }
    },
    {
      "cell_type": "code",
      "execution_count": 2,
      "metadata": {
        "id": "6w3-0EK5DilA"
      },
      "outputs": [],
      "source": [
        "import numpy as np"
      ]
    },
    {
      "cell_type": "markdown",
      "source": [
        "    numpy.linalg — операции линейной алгебры (простое умножение векторов и матриц есть в базовом варианте);\n",
        "    numpy.random — функции для работы со случайными величинами;\n",
        "    numpy.fft — прямое и обратное преобразование Фурье.\n"
      ],
      "metadata": {
        "id": "CnfD-pTrFLZm"
      }
    },
    {
      "cell_type": "code",
      "source": [
        "def get_numeric_types_dynamically():\n",
        "    \"\"\"Dynamically find numeric types in NumPy 2.0+\"\"\"\n",
        "    numeric_types = {\n",
        "        'Integer': [],\n",
        "        'Unsigned Integer': [],\n",
        "        'Float': [],\n",
        "        'Complex': [],\n",
        "    }\n",
        "    for name in dir(np):\n",
        "        dtype = getattr(np, name)\n",
        "        if not isinstance(dtype, type):\n",
        "            continue\n",
        "        if name.startswith('int'):\n",
        "            numeric_types['Integer'].append(dtype)\n",
        "        elif name.startswith('uint'):\n",
        "            numeric_types['Unsigned Integer'].append(dtype)\n",
        "        elif name.startswith('float'):\n",
        "            numeric_types['Float'].append(dtype)\n",
        "        elif name.startswith('complex'):\n",
        "            numeric_types['Complex'].append(dtype)\n",
        "    return numeric_types\n",
        "\n",
        "get_numeric_types_dynamically()\n",
        "\n",
        "# Also: bool, bytes, str, void"
      ],
      "metadata": {
        "colab": {
          "base_uri": "https://localhost:8080/"
        },
        "id": "VX_lYpfuMtAb",
        "outputId": "79c111f6-a6d1-49df-d4b4-b7bf91132837"
      },
      "execution_count": null,
      "outputs": [
        {
          "output_type": "execute_result",
          "data": {
            "text/plain": [
              "{'Integer': [numpy.int16,\n",
              "  numpy.int32,\n",
              "  numpy.int64,\n",
              "  numpy.int8,\n",
              "  numpy.int64,\n",
              "  numpy.int32,\n",
              "  numpy.integer,\n",
              "  numpy.int64],\n",
              " 'Unsigned Integer': [numpy.uint64,\n",
              "  numpy.uint16,\n",
              "  numpy.uint32,\n",
              "  numpy.uint64,\n",
              "  numpy.uint8,\n",
              "  numpy.uint32,\n",
              "  numpy.uint64],\n",
              " 'Float': [numpy.longdouble,\n",
              "  numpy.float16,\n",
              "  numpy.float32,\n",
              "  numpy.float64,\n",
              "  numpy.floating],\n",
              " 'Complex': [numpy.complex128,\n",
              "  numpy.clongdouble,\n",
              "  numpy.complex64,\n",
              "  numpy.complexfloating]}"
            ]
          },
          "metadata": {},
          "execution_count": 48
        }
      ]
    },
    {
      "cell_type": "code",
      "source": [
        "A = np.array([[1, 2, 3], [4, 5, 6]], 'int32')    # From lists\n",
        "A"
      ],
      "metadata": {
        "colab": {
          "base_uri": "https://localhost:8080/"
        },
        "id": "yaFTsECbFTqK",
        "outputId": "ab639c01-9f48-4213-bcc0-5ae8e2be9e2d"
      },
      "execution_count": null,
      "outputs": [
        {
          "output_type": "execute_result",
          "data": {
            "text/plain": [
              "array([[1, 2, 3],\n",
              "       [4, 5, 6]], dtype=int32)"
            ]
          },
          "metadata": {},
          "execution_count": 133
        }
      ]
    },
    {
      "cell_type": "code",
      "source": [
        "B = np.zeros((3, 4), 'float16')\n",
        "print(B, B.dtype)\n",
        "\n",
        "C = np.zeros_like(A, 'int8')    # The same size as A\n",
        "print(C, C.dtype)"
      ],
      "metadata": {
        "colab": {
          "base_uri": "https://localhost:8080/"
        },
        "id": "nojN2I6qFlk5",
        "outputId": "4fe7ffb8-6b46-4883-d8f3-82f599d29ea0"
      },
      "execution_count": null,
      "outputs": [
        {
          "output_type": "stream",
          "name": "stdout",
          "text": [
            "[[0. 0. 0. 0.]\n",
            " [0. 0. 0. 0.]\n",
            " [0. 0. 0. 0.]] float16\n",
            "[[0 0 0]\n",
            " [0 0 0]] int8\n"
          ]
        }
      ]
    },
    {
      "cell_type": "code",
      "source": [
        "B = np.ones((3, 4), 'float32')\n",
        "print(B, B.dtype)\n",
        "\n",
        "C = np.ones_like(A, 'bool')     # The same size as A\n",
        "print(C, C.dtype)"
      ],
      "metadata": {
        "colab": {
          "base_uri": "https://localhost:8080/"
        },
        "id": "YoQ0ByXUIvEb",
        "outputId": "418d6dfc-e007-4273-cf8e-41c8f9f4d8c9"
      },
      "execution_count": null,
      "outputs": [
        {
          "output_type": "stream",
          "name": "stdout",
          "text": [
            "[[1. 1. 1. 1.]\n",
            " [1. 1. 1. 1.]\n",
            " [1. 1. 1. 1.]] float32\n",
            "[[ True  True  True]\n",
            " [ True  True  True]] bool\n"
          ]
        }
      ]
    },
    {
      "cell_type": "code",
      "source": [
        "E = np.eye(3, dtype=np.int16)   # Identity matrix\n",
        "E"
      ],
      "metadata": {
        "colab": {
          "base_uri": "https://localhost:8080/"
        },
        "id": "vDPqRgRwHxGB",
        "outputId": "1b6d0ff9-ef79-4a6d-861d-86e71061fa53"
      },
      "execution_count": null,
      "outputs": [
        {
          "output_type": "execute_result",
          "data": {
            "text/plain": [
              "array([[1, 0, 0],\n",
              "       [0, 1, 0],\n",
              "       [0, 0, 1]], dtype=int16)"
            ]
          },
          "metadata": {},
          "execution_count": 65
        }
      ]
    },
    {
      "cell_type": "code",
      "source": [
        "beg = 2.5\n",
        "end = 7\n",
        "step = 0.5\n",
        "B = np.arange(start=2.5, stop=7, step=0.5)\n",
        "B"
      ],
      "metadata": {
        "colab": {
          "base_uri": "https://localhost:8080/"
        },
        "id": "UoEgfWSpKAgU",
        "outputId": "9e2bb0f7-c678-494e-b917-54b5f87b1f80"
      },
      "execution_count": 98,
      "outputs": [
        {
          "output_type": "execute_result",
          "data": {
            "text/plain": [
              "array([2.5, 3. , 3.5, 4. , 4.5, 5. , 5.5, 6. , 6.5])"
            ]
          },
          "metadata": {},
          "execution_count": 98
        }
      ]
    },
    {
      "cell_type": "code",
      "source": [
        "A = np.linspace(start=10, stop=50, num=12)\n",
        "A"
      ],
      "metadata": {
        "colab": {
          "base_uri": "https://localhost:8080/"
        },
        "id": "SayImOwK3EUU",
        "outputId": "7c41b55e-b7dc-4289-cfb5-11b2e81d06d5"
      },
      "execution_count": 101,
      "outputs": [
        {
          "output_type": "execute_result",
          "data": {
            "text/plain": [
              "array([10.        , 13.63636364, 17.27272727, 20.90909091, 24.54545455,\n",
              "       28.18181818, 31.81818182, 35.45454545, 39.09090909, 42.72727273,\n",
              "       46.36363636, 50.        ])"
            ]
          },
          "metadata": {},
          "execution_count": 101
        }
      ]
    },
    {
      "cell_type": "code",
      "source": [
        "B = A.astype('str')             # Returns a new array\n",
        "B"
      ],
      "metadata": {
        "colab": {
          "base_uri": "https://localhost:8080/"
        },
        "id": "xghqLuCdZlHU",
        "outputId": "d5be1923-87a2-49ec-f20c-216b50517aa6"
      },
      "execution_count": null,
      "outputs": [
        {
          "output_type": "execute_result",
          "data": {
            "text/plain": [
              "array([['1', '2', '3'],\n",
              "       ['4', '5', '6']], dtype='<U11')"
            ]
          },
          "metadata": {},
          "execution_count": 68
        }
      ]
    },
    {
      "cell_type": "code",
      "source": [
        "A = np.array([[1, 2, 3], [4, 5, 6]], 'int32')\n",
        "\n",
        "M = A                           #Shallow copy\n",
        "M[0, 1] *= 100\n",
        "print(\"M =\", M, M.dtype)\n",
        "print(\"A =\", A, A.dtype)\n",
        "print(A == M, '\\n')\n",
        "\n",
        "N = A.copy()                    # Deep copy\n",
        "N[0, 2] *= 100\n",
        "print(\"N =\", N, N.dtype)\n",
        "print(\"A =\", A, A.dtype)\n",
        "print(A == N)"
      ],
      "metadata": {
        "colab": {
          "base_uri": "https://localhost:8080/"
        },
        "id": "tY2J2gZGGxlY",
        "outputId": "2516a1c5-dc7c-4089-ef58-519e4a8bee53"
      },
      "execution_count": null,
      "outputs": [
        {
          "output_type": "stream",
          "name": "stdout",
          "text": [
            "M = [[  1 200   3]\n",
            " [  4   5   6]] int32\n",
            "A = [[  1 200   3]\n",
            " [  4   5   6]] int32\n",
            "[[ True  True  True]\n",
            " [ True  True  True]] \n",
            "\n",
            "N = [[  1 200 300]\n",
            " [  4   5   6]] int32\n",
            "A = [[  1 200   3]\n",
            " [  4   5   6]] int32\n",
            "[[ True  True False]\n",
            " [ True  True  True]]\n"
          ]
        }
      ]
    },
    {
      "cell_type": "code",
      "source": [
        "A = np.array([[1, 2, 3], [4, 5, 6]], 'int32')\n",
        "print(A[0][2], A[0, 2])         # The same\n",
        "print(A[1], A[1, :])            # The same\n",
        "print(A[:, 1])\n",
        "print(\"Last element:\", A[-1][-1])\n",
        "print(\"Last row:\", A[-1])\n",
        "print(\"Last column:\", A[:, -1])\n",
        "print(\"Columns in reverse order:\", A[:, -1], A[:, -2], A[:, -3])"
      ],
      "metadata": {
        "colab": {
          "base_uri": "https://localhost:8080/"
        },
        "id": "D_F6d_zrZm0b",
        "outputId": "14567c4b-9f01-435d-8184-10435afd0df5"
      },
      "execution_count": null,
      "outputs": [
        {
          "output_type": "stream",
          "name": "stdout",
          "text": [
            "3 3\n",
            "[4 5 6] [4 5 6]\n",
            "[2 5]\n",
            "Last element: 6\n",
            "Last row: [4 5 6]\n",
            "Last column: [3 6]\n",
            "Columns in reverse order: [3 6] [2 5] [1 4]\n"
          ]
        }
      ]
    },
    {
      "cell_type": "code",
      "source": [
        "A = np.arange(10)\n",
        "print(A)\n",
        "print(A[[0, 4, -1]])            # Select specified elements by index\n",
        "\n",
        "beg = 1; end = 8; step = 2\n",
        "print(A[beg:end:step])          # Select from [beg, end) with step\n",
        "print(A[2:6])                   # By default, step = 1\n",
        "print(A[:5], A[5:])"
      ],
      "metadata": {
        "colab": {
          "base_uri": "https://localhost:8080/"
        },
        "id": "RF0Aaw13kzTj",
        "outputId": "78e51295-0578-4c82-abcc-6b5b13b652d7"
      },
      "execution_count": null,
      "outputs": [
        {
          "output_type": "stream",
          "name": "stdout",
          "text": [
            "[0 1 2 3 4 5 6 7 8 9]\n",
            "[0 4 9]\n",
            "[1 3 5 7]\n",
            "[2 3 4 5]\n",
            "[0 1 2 3 4] [5 6 7 8 9]\n"
          ]
        }
      ]
    },
    {
      "cell_type": "code",
      "source": [
        "A = np.array([[1, 2, 3, 4], [5, 6, 7, 8]])\n",
        "B = A[::-1]                     # From last to first\n",
        "C = A[:, ::-1]                  # Take all elements, from last to first inside\n",
        "print(A)\n",
        "print(B)\n",
        "print(C)"
      ],
      "metadata": {
        "colab": {
          "base_uri": "https://localhost:8080/"
        },
        "id": "xtZZiuIqTiY6",
        "outputId": "34936760-99f5-455a-ab04-777a98cc8f95"
      },
      "execution_count": null,
      "outputs": [
        {
          "output_type": "stream",
          "name": "stdout",
          "text": [
            "[[1 2 3 4]\n",
            " [5 6 7 8]]\n",
            "[[5 6 7 8]\n",
            " [1 2 3 4]]\n",
            "[[4 3 2 1]\n",
            " [8 7 6 5]]\n"
          ]
        }
      ]
    },
    {
      "cell_type": "code",
      "source": [
        "A = np.array([[1, 2, 3], [4, 5, 6]])\n",
        "I = np.array([[False, False, True], [ True, False, True]])\n",
        "A[I]"
      ],
      "metadata": {
        "colab": {
          "base_uri": "https://localhost:8080/"
        },
        "id": "oTVISZd3yVSA",
        "outputId": "018c050f-8504-4423-ec5e-472bc3d53cb3"
      },
      "execution_count": null,
      "outputs": [
        {
          "output_type": "execute_result",
          "data": {
            "text/plain": [
              "array([3, 4, 6])"
            ]
          },
          "metadata": {},
          "execution_count": 160
        }
      ]
    },
    {
      "cell_type": "code",
      "source": [
        "A = np.array([[1, 2, 3], [4, 5, 6]])\n",
        "I = np.array([[False, True, False], [False, True, False]])      # Indexing array\n",
        "A[I] = 100\n",
        "A"
      ],
      "metadata": {
        "colab": {
          "base_uri": "https://localhost:8080/"
        },
        "id": "TZAwUj2Hzm_K",
        "outputId": "f2304cfc-bda0-421d-953d-2dcae7a93ecc"
      },
      "execution_count": null,
      "outputs": [
        {
          "output_type": "execute_result",
          "data": {
            "text/plain": [
              "array([[  1, 100,   3],\n",
              "       [  4, 100,   6]])"
            ]
          },
          "metadata": {},
          "execution_count": 161
        }
      ]
    },
    {
      "cell_type": "code",
      "source": [
        "A = np.array([[1, 2, 3], [4, 5, 6]])\n",
        "\n",
        "I1 = np.array([[False, False, True], [True, False, True]])\n",
        "I2 = np.array([[False, True, False], [False, False, True]])\n",
        "\n",
        "B = A.copy();  C = A.copy();  D = A.copy()\n",
        "\n",
        "B[np.logical_and(I1, I2)] = 100\n",
        "C[np.logical_or(I1, I2)] = 100\n",
        "D[np.logical_not(I1)] = 100\n",
        "\n",
        "print('B:\\n', B)\n",
        "print('\\nC:\\n', C)\n",
        "print('\\nD:\\n', D)"
      ],
      "metadata": {
        "colab": {
          "base_uri": "https://localhost:8080/"
        },
        "id": "BVC2b4YU0J27",
        "outputId": "2b02eb38-1a73-430b-f184-f712954a1dce"
      },
      "execution_count": null,
      "outputs": [
        {
          "output_type": "stream",
          "name": "stdout",
          "text": [
            "B:\n",
            " [[  1   2   3]\n",
            " [  4   5 100]]\n",
            "\n",
            "C:\n",
            " [[  1 100 100]\n",
            " [100   5 100]]\n",
            "\n",
            "D:\n",
            " [[100 100   3]\n",
            " [  4 100   6]]\n"
          ]
        }
      ]
    },
    {
      "cell_type": "code",
      "source": [
        "A = np.array([[1, 2, 3], [4, 5, 6]])\n",
        "print('A before:\\n', A)\n",
        "\n",
        "I = A > 3\n",
        "print('I:\\n', I)\n",
        "\n",
        "A[np.logical_or(A < 2, A > 4)] = 100\n",
        "print('A after:\\n', A)"
      ],
      "metadata": {
        "colab": {
          "base_uri": "https://localhost:8080/"
        },
        "id": "9_eN-6rh1Lwe",
        "outputId": "5e13c929-c41e-449e-ccfe-c9f58bde72f3"
      },
      "execution_count": null,
      "outputs": [
        {
          "output_type": "stream",
          "name": "stdout",
          "text": [
            "A before:\n",
            " [[1 2 3]\n",
            " [4 5 6]]\n",
            "I:\n",
            " [[False False False]\n",
            " [ True  True  True]]\n",
            "A after:\n",
            " [[100   2   3]\n",
            " [  4 100 100]]\n"
          ]
        }
      ]
    },
    {
      "cell_type": "code",
      "source": [
        "A = np.arange(24)\n",
        "B = A.reshape(4, 6)             # 4 * 6 = 24\n",
        "C = A.reshape(2, 3, 4)          # 2 * 3 * 4 = 24\n",
        "# These are different representations of the same data\n",
        "C[0, 0, 0] = -1\n",
        "print('A:\\n', A)\n",
        "print('\\nB:\\n', B)\n",
        "print('\\nC:\\n', C)"
      ],
      "metadata": {
        "colab": {
          "base_uri": "https://localhost:8080/"
        },
        "id": "ZzkjZGOA6AJG",
        "outputId": "2be43c20-f439-4ab5-c2a1-78079b780a79"
      },
      "execution_count": null,
      "outputs": [
        {
          "output_type": "stream",
          "name": "stdout",
          "text": [
            "A:\n",
            " [-1  1  2  3  4  5  6  7  8  9 10 11 12 13 14 15 16 17 18 19 20 21 22 23]\n",
            "\n",
            "B:\n",
            " [[-1  1  2  3  4  5]\n",
            " [ 6  7  8  9 10 11]\n",
            " [12 13 14 15 16 17]\n",
            " [18 19 20 21 22 23]]\n",
            "\n",
            "C:\n",
            " [[[-1  1  2  3]\n",
            "  [ 4  5  6  7]\n",
            "  [ 8  9 10 11]]\n",
            "\n",
            " [[12 13 14 15]\n",
            "  [16 17 18 19]\n",
            "  [20 21 22 23]]]\n"
          ]
        }
      ]
    },
    {
      "cell_type": "code",
      "source": [
        "A = np.array([[1, 2, 3], [4, 5, 6]])\n",
        "print(A)\n",
        "print(A.reshape(3, 2))\n",
        "print(A.reshape(6, 1))\n",
        "print(A.reshape(1, 6))\n",
        "print(A.ravel())"
      ],
      "metadata": {
        "colab": {
          "base_uri": "https://localhost:8080/"
        },
        "id": "uVKM4Ae2GC8N",
        "outputId": "b120992f-a214-44fd-e893-96cf43b82d12"
      },
      "execution_count": null,
      "outputs": [
        {
          "output_type": "stream",
          "name": "stdout",
          "text": [
            "[[1 2 3]\n",
            " [4 5 6]]\n",
            "[[1 2]\n",
            " [3 4]\n",
            " [5 6]]\n",
            "[[1]\n",
            " [2]\n",
            " [3]\n",
            " [4]\n",
            " [5]\n",
            " [6]]\n",
            "[[1 2 3 4 5 6]]\n",
            "[1 2 3 4 5 6]\n"
          ]
        }
      ]
    },
    {
      "cell_type": "code",
      "source": [
        "A = np.arange(24)\n",
        "B = A.reshape(-1, 6)            # -1 means \"calculate automatically\"\n",
        "C = A.reshape(4, -1, 2)         # -1 means \"calculate automatically\"\n",
        "print(B.shape, C.shape)"
      ],
      "metadata": {
        "colab": {
          "base_uri": "https://localhost:8080/"
        },
        "id": "UWarSW02IKCD",
        "outputId": "519f7bcb-9f69-443c-d128-eba3597f19d6"
      },
      "execution_count": null,
      "outputs": [
        {
          "output_type": "stream",
          "name": "stdout",
          "text": [
            "(4, 6) (4, 3, 2)\n"
          ]
        }
      ]
    },
    {
      "cell_type": "code",
      "source": [
        "A = np.arange(12)\n",
        "B = A.reshape(3, 4)\n",
        "print(B)\n",
        "print(\"Size:\", B.size)\n",
        "print(\"Dim:\", B.ndim)\n",
        "print(\"Shape:\", B.shape)"
      ],
      "metadata": {
        "colab": {
          "base_uri": "https://localhost:8080/"
        },
        "id": "p95wpL64EU9d",
        "outputId": "0e70d400-8477-4212-fda0-ab807126a7cc"
      },
      "execution_count": null,
      "outputs": [
        {
          "output_type": "stream",
          "name": "stdout",
          "text": [
            "[[ 0  1  2  3]\n",
            " [ 4  5  6  7]\n",
            " [ 8  9 10 11]]\n",
            "Size: 12\n",
            "Dim: 2\n",
            "Shape: (3, 4)\n"
          ]
        }
      ]
    },
    {
      "cell_type": "code",
      "source": [
        "A = np.array([[1, 2, 3], [4, 5, 6]])\n",
        "B = A.T                         # Matrix transposition\n",
        "B = np.transpose(A)             # Matrix transposition\n",
        "B = np.swapaxes(A, 0, 1)\n",
        "print('A:\\n', A)\n",
        "print('B:\\n', B)"
      ],
      "metadata": {
        "colab": {
          "base_uri": "https://localhost:8080/"
        },
        "id": "XppUHpxXLCVG",
        "outputId": "dcd6f2da-d704-4e48-cd41-ed0dccfe8e97"
      },
      "execution_count": null,
      "outputs": [
        {
          "output_type": "stream",
          "name": "stdout",
          "text": [
            "A:\n",
            " [[1 2 3]\n",
            " [4 5 6]]\n",
            "B:\n",
            " [[1 4]\n",
            " [2 5]\n",
            " [3 6]]\n"
          ]
        }
      ]
    },
    {
      "cell_type": "code",
      "source": [
        "A = np.zeros((3, 3), 'int32')\n",
        "B = np.ones((3, 3), 'int32')\n",
        "\n",
        "C = np.stack((A, B), axis=0)        # Join arrays along a new axis\n",
        "D = np.stack((A, B), axis=1)        # Join arrays along a new axis\n",
        "\n",
        "print(C, '\\nShape:', C.shape, '\\n')\n",
        "print(D, '\\nShape:', D.shape)"
      ],
      "metadata": {
        "colab": {
          "base_uri": "https://localhost:8080/"
        },
        "id": "rg3s28a3PapH",
        "outputId": "252087b3-2d25-468f-ec96-74659836443f"
      },
      "execution_count": null,
      "outputs": [
        {
          "output_type": "stream",
          "name": "stdout",
          "text": [
            "[[[0 0 0]\n",
            "  [0 0 0]\n",
            "  [0 0 0]]\n",
            "\n",
            " [[1 1 1]\n",
            "  [1 1 1]\n",
            "  [1 1 1]]] \n",
            "Shape: (2, 3, 3) \n",
            "\n",
            "[[[0 0 0]\n",
            "  [1 1 1]]\n",
            "\n",
            " [[0 0 0]\n",
            "  [1 1 1]]\n",
            "\n",
            " [[0 0 0]\n",
            "  [1 1 1]]] \n",
            "Shape: (3, 2, 3)\n"
          ]
        }
      ]
    },
    {
      "cell_type": "code",
      "source": [
        "A = np.zeros((3, 3), 'int32')\n",
        "B = np.ones((3, 3), 'int32')\n",
        "\n",
        "C = np.concatenate((A, B), 0)       # Joins arrays along an existing axis\n",
        "D = np.concatenate((A, B), 1)       # Joins arrays along an existing axis\n",
        "\n",
        "print(C, '\\nShape:', C.shape, '\\n')\n",
        "print(D, '\\nShape:', D.shape)"
      ],
      "metadata": {
        "colab": {
          "base_uri": "https://localhost:8080/"
        },
        "id": "Ns8SXLfIvFxK",
        "outputId": "00996c68-42cc-4e73-b57d-c0bb17260558"
      },
      "execution_count": null,
      "outputs": [
        {
          "output_type": "stream",
          "name": "stdout",
          "text": [
            "[[0 0 0]\n",
            " [0 0 0]\n",
            " [0 0 0]\n",
            " [1 1 1]\n",
            " [1 1 1]\n",
            " [1 1 1]] \n",
            "Shape: (6, 3) \n",
            "\n",
            "[[0 0 0 1 1 1]\n",
            " [0 0 0 1 1 1]\n",
            " [0 0 0 1 1 1]] \n",
            "Shape: (3, 6)\n"
          ]
        }
      ]
    },
    {
      "cell_type": "code",
      "source": [
        "A = np.zeros((3, 3), 'int32')\n",
        "B = np.ones((3, 3), 'int32')\n",
        "\n",
        "C = np.vstack((A, B))               # Stacks arrays vertically (row-wise)\n",
        "D = np.hstack((A, B))               # Stacks arrays horizontally (column-wise)\n",
        "\n",
        "print(C, '\\nShape:', C.shape, '\\n')\n",
        "print(D, '\\nShape:', D.shape)"
      ],
      "metadata": {
        "colab": {
          "base_uri": "https://localhost:8080/"
        },
        "id": "N7PRGMXPwns5",
        "outputId": "e12cb1d0-a10f-492a-adbd-a59d234a564e"
      },
      "execution_count": 3,
      "outputs": [
        {
          "output_type": "stream",
          "name": "stdout",
          "text": [
            "[[0 0 0]\n",
            " [0 0 0]\n",
            " [0 0 0]\n",
            " [1 1 1]\n",
            " [1 1 1]\n",
            " [1 1 1]] \n",
            "Shape: (6, 3) \n",
            "\n",
            "[[0 0 0 1 1 1]\n",
            " [0 0 0 1 1 1]\n",
            " [0 0 0 1 1 1]] \n",
            "Shape: (3, 6)\n"
          ]
        }
      ]
    },
    {
      "cell_type": "code",
      "source": [
        "A = np.array([[1, 2, 3], [4, 5, 6]])\n",
        "B = np.repeat(A, 4)\n",
        "print(B, '\\n')\n",
        "\n",
        "C = B.reshape(A.shape[0], A.shape[1], -1)\n",
        "print(C)"
      ],
      "metadata": {
        "id": "20CtfiHo2pj3",
        "colab": {
          "base_uri": "https://localhost:8080/"
        },
        "outputId": "91b483d1-33fe-4b0f-9f48-f3dedc8d5584"
      },
      "execution_count": 12,
      "outputs": [
        {
          "output_type": "stream",
          "name": "stdout",
          "text": [
            "[1 1 1 1 2 2 2 2 3 3 3 3 4 4 4 4 5 5 5 5 6 6 6 6] \n",
            "\n",
            "[[[1 1 1 1]\n",
            "  [2 2 2 2]\n",
            "  [3 3 3 3]]\n",
            "\n",
            " [[4 4 4 4]\n",
            "  [5 5 5 5]\n",
            "  [6 6 6 6]]]\n"
          ]
        }
      ]
    },
    {
      "cell_type": "code",
      "source": [
        "A = np.array([[-1, 2, 3], [4, 5, 6], [7, 8, 9]], np.float32)\n",
        "b = -2.\n",
        "\n",
        "# Element-wise operations with matrix and number\n",
        "C = A + b\n",
        "D = A - b\n",
        "E = A * b\n",
        "F = A / b\n",
        "G = A ** b\n",
        "\n",
        "print('+\\n', C, '\\n')\n",
        "print('-\\n', D, '\\n')\n",
        "print('*\\n', E, '\\n')\n",
        "print('/\\n', F, '\\n')\n",
        "print('**\\n', G, '\\n')"
      ],
      "metadata": {
        "colab": {
          "base_uri": "https://localhost:8080/"
        },
        "id": "b6YHjB70EXlC",
        "outputId": "300ec9b7-3bd7-4ada-c1ae-1e9278f6c1ea"
      },
      "execution_count": 15,
      "outputs": [
        {
          "output_type": "stream",
          "name": "stdout",
          "text": [
            "+\n",
            " [[-3.  0.  1.]\n",
            " [ 2.  3.  4.]\n",
            " [ 5.  6.  7.]] \n",
            "\n",
            "-\n",
            " [[ 1.  4.  5.]\n",
            " [ 6.  7.  8.]\n",
            " [ 9. 10. 11.]] \n",
            "\n",
            "*\n",
            " [[  2.  -4.  -6.]\n",
            " [ -8. -10. -12.]\n",
            " [-14. -16. -18.]] \n",
            "\n",
            "/\n",
            " [[ 0.5 -1.  -1.5]\n",
            " [-2.  -2.5 -3. ]\n",
            " [-3.5 -4.  -4.5]] \n",
            "\n",
            "**\n",
            " [[1.         0.25       0.11111111]\n",
            " [0.0625     0.04       0.02777778]\n",
            " [0.02040816 0.015625   0.01234568]] \n",
            "\n"
          ]
        }
      ]
    },
    {
      "cell_type": "code",
      "source": [
        "A = np.array([[1, 2, 3], [4, 5, 6], [7, 8, 9]], 'float32')\n",
        "B = np.array([-1, 2, 1], 'float32')\n",
        "\n",
        "# Element-wise operations with matrix and vector\n",
        "C = A + B\n",
        "D = A - B\n",
        "E = A * B\n",
        "F = A / B\n",
        "G = A ** B\n",
        "\n",
        "print('+\\n', C, '\\n')\n",
        "print('-\\n', D, '\\n')\n",
        "print('*\\n', E, '\\n')\n",
        "print('/\\n', F, '\\n')\n",
        "print('**\\n', G)"
      ],
      "metadata": {
        "colab": {
          "base_uri": "https://localhost:8080/"
        },
        "id": "rkDsi9k2FP1z",
        "outputId": "cf01a1f1-c22a-4815-f901-4eadce284666"
      },
      "execution_count": 18,
      "outputs": [
        {
          "output_type": "stream",
          "name": "stdout",
          "text": [
            "+\n",
            " [[ 0.  4.  4.]\n",
            " [ 3.  7.  7.]\n",
            " [ 6. 10. 10.]] \n",
            "\n",
            "-\n",
            " [[2. 0. 2.]\n",
            " [5. 3. 5.]\n",
            " [8. 6. 8.]] \n",
            "\n",
            "*\n",
            " [[-1.  4.  3.]\n",
            " [-4. 10.  6.]\n",
            " [-7. 16.  9.]] \n",
            "\n",
            "/\n",
            " [[-1.   1.   3. ]\n",
            " [-4.   2.5  6. ]\n",
            " [-7.   4.   9. ]] \n",
            "\n",
            "**\n",
            " [[ 1.          4.          3.        ]\n",
            " [ 0.25       25.          6.        ]\n",
            " [ 0.14285715 64.          9.        ]]\n"
          ]
        }
      ]
    },
    {
      "cell_type": "code",
      "source": [
        "A = np.array([[-1, 2, 3], [4, 5, 6], [7, 8, 9]], 'float32')\n",
        "B = np.array([[1, -2, -3], [7, 8, 9], [4, 5, 6]], 'float32')\n",
        "\n",
        "# Element-wise operations with matrices\n",
        "C = A + B\n",
        "D = A - B\n",
        "E = A * B\n",
        "F = A / B\n",
        "G = A ** B\n",
        "\n",
        "print('+\\n', C, '\\n')\n",
        "print('-\\n', D, '\\n')\n",
        "print('*\\n', E, '\\n')\n",
        "print('/\\n', F, '\\n')\n",
        "print('**\\n', G)"
      ],
      "metadata": {
        "colab": {
          "base_uri": "https://localhost:8080/"
        },
        "id": "NMtTWDT2_sZj",
        "outputId": "442efc0b-5dc0-4553-d81b-a28fb3d9f7a1"
      },
      "execution_count": 14,
      "outputs": [
        {
          "output_type": "stream",
          "name": "stdout",
          "text": [
            "+\n",
            " [[ 0.  0.  0.]\n",
            " [11. 13. 15.]\n",
            " [11. 13. 15.]] \n",
            "\n",
            "-\n",
            " [[-2.  4.  6.]\n",
            " [-3. -3. -3.]\n",
            " [ 3.  3.  3.]] \n",
            "\n",
            "*\n",
            " [[-1. -4. -9.]\n",
            " [28. 40. 54.]\n",
            " [28. 40. 54.]] \n",
            "\n",
            "/\n",
            " [[-1.        -1.        -1.       ]\n",
            " [ 0.5714286  0.625      0.6666667]\n",
            " [ 1.75       1.6        1.5      ]] \n",
            "\n",
            "**\n",
            " [[-1.0000000e+00  2.5000000e-01  3.7037037e-02]\n",
            " [ 1.6384000e+04  3.9062500e+05  1.0077696e+07]\n",
            " [ 2.4010000e+03  3.2768000e+04  5.3144100e+05]]\n"
          ]
        }
      ]
    },
    {
      "cell_type": "code",
      "source": [
        "A = np.array([[1, 2, 3], [4, 5, 6], [7, 8, 9]], 'float32')\n",
        "\n",
        "# Element-wise function application\n",
        "B = np.exp(A)\n",
        "C = np.log(B)       # Natural logarithm\n",
        "D = np.tan(A)\n",
        "\n",
        "print('A\\n', A, '\\n')\n",
        "print('B\\n', B, '\\n')\n",
        "print('C\\n', C, '\\n')\n",
        "print('D\\n', D)"
      ],
      "metadata": {
        "colab": {
          "base_uri": "https://localhost:8080/"
        },
        "id": "HL5ZquVJGwjj",
        "outputId": "3f5f0757-2e7f-409e-aee7-81841a039c2c"
      },
      "execution_count": 21,
      "outputs": [
        {
          "output_type": "stream",
          "name": "stdout",
          "text": [
            "A\n",
            " [[1. 2. 3.]\n",
            " [4. 5. 6.]\n",
            " [7. 8. 9.]] \n",
            "\n",
            "B\n",
            " [[2.7182820e+00 7.3890557e+00 2.0085537e+01]\n",
            " [5.4598148e+01 1.4841316e+02 4.0342877e+02]\n",
            " [1.0966332e+03 2.9809580e+03 8.1030840e+03]] \n",
            "\n",
            "C\n",
            " [[1.0000001 2.        3.       ]\n",
            " [4.        5.        6.       ]\n",
            " [7.        8.        9.       ]] \n",
            "\n",
            "D\n",
            " [[ 1.5574077  -2.1850398  -0.14254655]\n",
            " [ 1.1578213  -3.380515   -0.29100618]\n",
            " [ 0.871448   -6.799711   -0.45231566]]\n"
          ]
        }
      ]
    },
    {
      "cell_type": "code",
      "source": [
        "A = np.array([2, 3, 0])\n",
        "B = np.array([0, 1, -1])\n",
        "print(np.dot(A, B), '\\n')\n",
        "\n",
        "A = np.ones((3, 4))\n",
        "B = np.ones((4, 5))\n",
        "C = np.dot(A, B)\n",
        "print(C)\n",
        "print('A:', A.shape, ' B:', B.shape, ' C:', C.shape)"
      ],
      "metadata": {
        "colab": {
          "base_uri": "https://localhost:8080/"
        },
        "id": "CcvDhHNdIgnx",
        "outputId": "ab27effd-bb0b-441e-b02a-519f91d9b78c"
      },
      "execution_count": 32,
      "outputs": [
        {
          "output_type": "stream",
          "name": "stdout",
          "text": [
            "3 \n",
            "\n",
            "[[4. 4. 4. 4. 4.]\n",
            " [4. 4. 4. 4. 4.]\n",
            " [4. 4. 4. 4. 4.]]\n",
            "A: (3, 4)  B: (4, 5)  C: (3, 5)\n"
          ]
        }
      ]
    },
    {
      "cell_type": "code",
      "source": [
        "A = np.random.randint(low=-99, high=100, size=(4, 5), dtype=np.int8)\n",
        "\n",
        "print('A\\n', A, '\\n')\n",
        "\n",
        "print('Min\\n', np.min(A, 0))\n",
        "print('Max\\n', np.max(A, 0))\n",
        "print('Mean\\n', np.mean(A, 0))\n",
        "print('Average\\n', np.average(A, 0))\n",
        "print('Sum\\n', np.sum(A, 0))\n"
      ],
      "metadata": {
        "colab": {
          "base_uri": "https://localhost:8080/"
        },
        "id": "c_f2ljGyU4Lh",
        "outputId": "42847f66-6d06-41e4-92be-6197a3aee918"
      },
      "execution_count": 88,
      "outputs": [
        {
          "output_type": "stream",
          "name": "stdout",
          "text": [
            "A\n",
            " [[ 49 -23 -38  61 -14]\n",
            " [-47 -68  51  48  35]\n",
            " [-76 -89 -26 -41  43]\n",
            " [-79 -50 -71  87  42]] \n",
            "\n",
            "Min\n",
            " [-79 -89 -71 -41 -14]\n",
            "Max\n",
            " [ 49 -23  51  87  43]\n",
            "Mean\n",
            " [-38.25 -57.5  -21.    38.75  26.5 ]\n",
            "Average\n",
            " [-38.25 -57.5  -21.    38.75  26.5 ]\n",
            "Sum\n",
            " [-153 -230  -84  155  106]\n"
          ]
        }
      ]
    },
    {
      "cell_type": "code",
      "source": [
        "A = np.random.rand(3, 4)        # From [0.0, 1.0), MATLAB-style syntax\n",
        "B = np.random.random((3, 3))    # From [0.0, 1.0), Pythonic style\n",
        "b = np.random.random()          # Scalar from [0.0, 1.0)\n",
        "\n",
        "C = np.random.uniform(low=2.0, high=8.0, size=(3, 3))   # From [low, high)\n",
        "C2 = np.random.uniform(low=3, high=5, size=(3, 3)).astype(np.float64)\n",
        "c = np.random.uniform(low=4.0, high=8.0)                # Scalar from [low, high)\n",
        "\n",
        "D = np.random.randn(3, 3)       # From standard normal distribution (mean=0, var=1)\n",
        "d = np.random.randn()           # Scalar from standard normal distribution (mean=0, var=1)\n",
        "\n",
        "E = np.random.randint(low=-9, high=10, size=(3, 4), dtype=np.int8)  #From [low, high)\n",
        "e = np.random.randint(10, 50, dtype=np.int16)   # Scalar from [low, high)\n",
        "\n",
        "print(A, '\\n\\n', B, '\\n\\n', C, '\\n\\n', D, '\\n\\n', E, '\\n')\n",
        "print(b, c, d, e)"
      ],
      "metadata": {
        "colab": {
          "base_uri": "https://localhost:8080/"
        },
        "id": "sDLUF6E6Z0jm",
        "outputId": "dd283507-b12b-4d2f-d645-8fe052558c5b"
      },
      "execution_count": 85,
      "outputs": [
        {
          "output_type": "stream",
          "name": "stdout",
          "text": [
            "[[0.73140298 0.41027454 0.31679897 0.45626566]\n",
            " [0.81388246 0.11375993 0.97059461 0.71690039]\n",
            " [0.41798775 0.54664875 0.70620197 0.45771264]] \n",
            "\n",
            " [[0.20688299 0.24517319 0.28514098]\n",
            " [0.0023162  0.89996626 0.97951846]\n",
            " [0.46008004 0.93029449 0.39767684]] \n",
            "\n",
            " [[6.77950092 6.84763816 2.67108209]\n",
            " [4.64380563 6.05774511 7.21379435]\n",
            " [5.01916985 4.74011609 3.99977614]] \n",
            "\n",
            " [[ 0.57736378 -1.24328489  0.87617073]\n",
            " [-0.94204656  1.63179724 -0.6628547 ]\n",
            " [ 0.22882957 -1.62098061 -0.77988601]] \n",
            "\n",
            " [[ 6  6  8 -6]\n",
            " [ 8 -2  3 -6]\n",
            " [-7  1 -2  6]] \n",
            "\n",
            "0.17752652877202268 5.022030467685964 -0.6639680739532445 23\n"
          ]
        }
      ]
    },
    {
      "cell_type": "code",
      "source": [
        "A = np.random.uniform(low=-10, high=10, size=(4, 4))\n",
        "B = np.linalg.inv(A)            # Inverse matrix\n",
        "print(B)\n",
        "print(np.round(np.dot(A, B)), '\\n')\n",
        "\n",
        "d = np.linalg.det(A)            # Determinant\n",
        "print(\"det = \", d, '\\n')\n",
        "\n",
        "vals, vecs = np.linalg.eig(A)     # Eigenvalues and eigenvectors\n",
        "print(\"Eigenvalues:\", vals)\n"
      ],
      "metadata": {
        "colab": {
          "base_uri": "https://localhost:8080/"
        },
        "id": "s_buoPvFbgId",
        "outputId": "17236a3b-855a-4aae-b326-bcd5a7117f14"
      },
      "execution_count": 123,
      "outputs": [
        {
          "output_type": "stream",
          "name": "stdout",
          "text": [
            "[[-0.04995023  0.11073855 -0.02578654  0.01968989]\n",
            " [ 0.08620952 -0.00237393  0.08289666 -0.02593574]\n",
            " [ 0.04215906  0.04489908 -0.07083887  0.09008315]\n",
            " [-0.03021722  0.0815658  -0.04094447 -0.07189637]]\n",
            "[[ 1. -0.  0.  0.]\n",
            " [-0.  1.  0. -0.]\n",
            " [-0.  0.  1. -0.]\n",
            " [-0.  0.  0.  1.]] \n",
            "\n",
            "det =  -8128.756078194414 \n",
            "\n",
            "Eigenvalues: [ 10.28887176+0.j         -17.08057547+0.j\n",
            "  -5.40496948+4.12804903j  -5.40496948-4.12804903j]\n"
          ]
        }
      ]
    }
  ]
}