{
  "nbformat": 4,
  "nbformat_minor": 0,
  "metadata": {
    "colab": {
      "provenance": [],
      "toc_visible": true,
      "authorship_tag": "ABX9TyO60Jhxa2hLovq0rE+R+Hd4",
      "include_colab_link": true
    },
    "kernelspec": {
      "name": "python3",
      "display_name": "Python 3"
    },
    "language_info": {
      "name": "python"
    }
  },
  "cells": [
    {
      "cell_type": "markdown",
      "metadata": {
        "id": "view-in-github",
        "colab_type": "text"
      },
      "source": [
        "<a href=\"https://colab.research.google.com/github/oleg0x/Python_libraries_examples/blob/main/numpy_basics.ipynb\" target=\"_parent\"><img src=\"https://colab.research.google.com/assets/colab-badge.svg\" alt=\"Open In Colab\"/></a>"
      ]
    },
    {
      "cell_type": "code",
      "execution_count": 2,
      "metadata": {
        "id": "6w3-0EK5DilA"
      },
      "outputs": [],
      "source": [
        "import numpy as np"
      ]
    },
    {
      "cell_type": "markdown",
      "source": [
        "    numpy.linalg — реализует операции линейной алгебры (простое умножение векторов и матриц есть в базовом варианте);\n",
        "    numpy.random — реализует функции для работы со случайными величинами;\n",
        "    numpy.fft — реализует прямое и обратное преобразование Фурье.\n"
      ],
      "metadata": {
        "id": "CnfD-pTrFLZm"
      }
    },
    {
      "cell_type": "code",
      "source": [
        "def get_numeric_types_dynamically():\n",
        "    \"\"\"Dynamically find numeric types in NumPy 2.0+\"\"\"\n",
        "    numeric_types = {\n",
        "        'Integer': [],\n",
        "        'Unsigned Integer': [],\n",
        "        'Float': [],\n",
        "        'Complex': [],\n",
        "    }\n",
        "    for name in dir(np):\n",
        "        dtype = getattr(np, name)\n",
        "        if not isinstance(dtype, type):\n",
        "            continue\n",
        "        if name.startswith('int'):\n",
        "            numeric_types['Integer'].append(dtype)\n",
        "        elif name.startswith('uint'):\n",
        "            numeric_types['Unsigned Integer'].append(dtype)\n",
        "        elif name.startswith('float'):\n",
        "            numeric_types['Float'].append(dtype)\n",
        "        elif name.startswith('complex'):\n",
        "            numeric_types['Complex'].append(dtype)\n",
        "    return numeric_types\n",
        "\n",
        "get_numeric_types_dynamically()\n",
        "\n",
        "# Also: bool, bytes, str, void"
      ],
      "metadata": {
        "colab": {
          "base_uri": "https://localhost:8080/"
        },
        "id": "VX_lYpfuMtAb",
        "outputId": "79c111f6-a6d1-49df-d4b4-b7bf91132837"
      },
      "execution_count": 48,
      "outputs": [
        {
          "output_type": "execute_result",
          "data": {
            "text/plain": [
              "{'Integer': [numpy.int16,\n",
              "  numpy.int32,\n",
              "  numpy.int64,\n",
              "  numpy.int8,\n",
              "  numpy.int64,\n",
              "  numpy.int32,\n",
              "  numpy.integer,\n",
              "  numpy.int64],\n",
              " 'Unsigned Integer': [numpy.uint64,\n",
              "  numpy.uint16,\n",
              "  numpy.uint32,\n",
              "  numpy.uint64,\n",
              "  numpy.uint8,\n",
              "  numpy.uint32,\n",
              "  numpy.uint64],\n",
              " 'Float': [numpy.longdouble,\n",
              "  numpy.float16,\n",
              "  numpy.float32,\n",
              "  numpy.float64,\n",
              "  numpy.floating],\n",
              " 'Complex': [numpy.complex128,\n",
              "  numpy.clongdouble,\n",
              "  numpy.complex64,\n",
              "  numpy.complexfloating]}"
            ]
          },
          "metadata": {},
          "execution_count": 48
        }
      ]
    },
    {
      "cell_type": "code",
      "source": [
        "A = np.array([[1, 2, 3], [4, 5, 6]], 'int32')    # From lists\n",
        "A"
      ],
      "metadata": {
        "colab": {
          "base_uri": "https://localhost:8080/"
        },
        "id": "yaFTsECbFTqK",
        "outputId": "ab639c01-9f48-4213-bcc0-5ae8e2be9e2d"
      },
      "execution_count": 133,
      "outputs": [
        {
          "output_type": "execute_result",
          "data": {
            "text/plain": [
              "array([[1, 2, 3],\n",
              "       [4, 5, 6]], dtype=int32)"
            ]
          },
          "metadata": {},
          "execution_count": 133
        }
      ]
    },
    {
      "cell_type": "code",
      "source": [
        "B = np.zeros((3, 4), 'float16')\n",
        "print(B, B.dtype)\n",
        "C = np.zeros_like(A, 'int8')    # The same size as A\n",
        "print(C, C.dtype)"
      ],
      "metadata": {
        "colab": {
          "base_uri": "https://localhost:8080/"
        },
        "id": "nojN2I6qFlk5",
        "outputId": "4fe7ffb8-6b46-4883-d8f3-82f599d29ea0"
      },
      "execution_count": 54,
      "outputs": [
        {
          "output_type": "stream",
          "name": "stdout",
          "text": [
            "[[0. 0. 0. 0.]\n",
            " [0. 0. 0. 0.]\n",
            " [0. 0. 0. 0.]] float16\n",
            "[[0 0 0]\n",
            " [0 0 0]] int8\n"
          ]
        }
      ]
    },
    {
      "cell_type": "code",
      "source": [
        "B = np.ones((3, 4), 'float32')\n",
        "print(B, B.dtype)\n",
        "C = np.ones_like(A, 'bool')     # The same size as A\n",
        "print(C, C.dtype)"
      ],
      "metadata": {
        "colab": {
          "base_uri": "https://localhost:8080/"
        },
        "id": "YoQ0ByXUIvEb",
        "outputId": "418d6dfc-e007-4273-cf8e-41c8f9f4d8c9"
      },
      "execution_count": 56,
      "outputs": [
        {
          "output_type": "stream",
          "name": "stdout",
          "text": [
            "[[1. 1. 1. 1.]\n",
            " [1. 1. 1. 1.]\n",
            " [1. 1. 1. 1.]] float32\n",
            "[[ True  True  True]\n",
            " [ True  True  True]] bool\n"
          ]
        }
      ]
    },
    {
      "cell_type": "code",
      "source": [
        "E = np.eye(3, dtype=np.int16)   # Identity matrix\n",
        "E"
      ],
      "metadata": {
        "colab": {
          "base_uri": "https://localhost:8080/"
        },
        "id": "vDPqRgRwHxGB",
        "outputId": "1b6d0ff9-ef79-4a6d-861d-86e71061fa53"
      },
      "execution_count": 65,
      "outputs": [
        {
          "output_type": "execute_result",
          "data": {
            "text/plain": [
              "array([[1, 0, 0],\n",
              "       [0, 1, 0],\n",
              "       [0, 0, 1]], dtype=int16)"
            ]
          },
          "metadata": {},
          "execution_count": 65
        }
      ]
    },
    {
      "cell_type": "code",
      "source": [
        "beg = 2.5\n",
        "end = 7\n",
        "step = 0.5\n",
        "B = np.arange(beg, end, step)\n",
        "B"
      ],
      "metadata": {
        "colab": {
          "base_uri": "https://localhost:8080/"
        },
        "id": "UoEgfWSpKAgU",
        "outputId": "3c5ee5dd-8600-4e1d-e5ed-5eafbd9507c5"
      },
      "execution_count": 66,
      "outputs": [
        {
          "output_type": "execute_result",
          "data": {
            "text/plain": [
              "array([2.5, 3. , 3.5, 4. , 4.5, 5. , 5.5, 6. , 6.5])"
            ]
          },
          "metadata": {},
          "execution_count": 66
        }
      ]
    },
    {
      "cell_type": "code",
      "source": [
        "B = A.astype('str')             # Returns a new array\n",
        "B"
      ],
      "metadata": {
        "colab": {
          "base_uri": "https://localhost:8080/"
        },
        "id": "xghqLuCdZlHU",
        "outputId": "d5be1923-87a2-49ec-f20c-216b50517aa6"
      },
      "execution_count": 68,
      "outputs": [
        {
          "output_type": "execute_result",
          "data": {
            "text/plain": [
              "array([['1', '2', '3'],\n",
              "       ['4', '5', '6']], dtype='<U11')"
            ]
          },
          "metadata": {},
          "execution_count": 68
        }
      ]
    },
    {
      "cell_type": "code",
      "source": [
        "A = np.array([[1, 2, 3], [4, 5, 6]], 'int32')\n",
        "\n",
        "M = A                           #Shallow copy\n",
        "M[0, 1] *= 100\n",
        "print(\"M =\", M, M.dtype)\n",
        "print(\"A =\", A, A.dtype)\n",
        "print(A == M, '\\n')\n",
        "\n",
        "N = A.copy()                    # Deep copy\n",
        "N[0, 2] *= 100\n",
        "print(\"N =\", N, N.dtype)\n",
        "print(\"A =\", A, A.dtype)\n",
        "print(A == N)"
      ],
      "metadata": {
        "colab": {
          "base_uri": "https://localhost:8080/"
        },
        "id": "tY2J2gZGGxlY",
        "outputId": "2516a1c5-dc7c-4089-ef58-519e4a8bee53"
      },
      "execution_count": 142,
      "outputs": [
        {
          "output_type": "stream",
          "name": "stdout",
          "text": [
            "M = [[  1 200   3]\n",
            " [  4   5   6]] int32\n",
            "A = [[  1 200   3]\n",
            " [  4   5   6]] int32\n",
            "[[ True  True  True]\n",
            " [ True  True  True]] \n",
            "\n",
            "N = [[  1 200 300]\n",
            " [  4   5   6]] int32\n",
            "A = [[  1 200   3]\n",
            " [  4   5   6]] int32\n",
            "[[ True  True False]\n",
            " [ True  True  True]]\n"
          ]
        }
      ]
    },
    {
      "cell_type": "code",
      "source": [
        "A = np.array([[1, 2, 3], [4, 5, 6]], 'int32')\n",
        "print(A[0][2], A[0, 2])         # The same\n",
        "print(A[1], A[1, :])            # The same\n",
        "print(A[:, 1])\n",
        "print(\"Last element:\", A[-1][-1])\n",
        "print(\"Last row:\", A[-1])\n",
        "print(\"Last column:\", A[:, -1])\n",
        "print(\"Columns in reverse order:\", A[:, -1], A[:, -2], A[:, -3])"
      ],
      "metadata": {
        "colab": {
          "base_uri": "https://localhost:8080/"
        },
        "id": "D_F6d_zrZm0b",
        "outputId": "14567c4b-9f01-435d-8184-10435afd0df5"
      },
      "execution_count": 140,
      "outputs": [
        {
          "output_type": "stream",
          "name": "stdout",
          "text": [
            "3 3\n",
            "[4 5 6] [4 5 6]\n",
            "[2 5]\n",
            "Last element: 6\n",
            "Last row: [4 5 6]\n",
            "Last column: [3 6]\n",
            "Columns in reverse order: [3 6] [2 5] [1 4]\n"
          ]
        }
      ]
    },
    {
      "cell_type": "code",
      "source": [
        "A = np.arange(10)\n",
        "print(A)\n",
        "print(A[[0, 4, -1]])            # Select specified elements by index\n",
        "beg = 1; end = 8; step = 2\n",
        "print(A[beg:end:step])          # Select from [beg, end) with step\n",
        "print(A[2:6])                   # By default, step = 1\n",
        "print(A[:5], A[5:])"
      ],
      "metadata": {
        "colab": {
          "base_uri": "https://localhost:8080/"
        },
        "id": "RF0Aaw13kzTj",
        "outputId": "78e51295-0578-4c82-abcc-6b5b13b652d7"
      },
      "execution_count": 136,
      "outputs": [
        {
          "output_type": "stream",
          "name": "stdout",
          "text": [
            "[0 1 2 3 4 5 6 7 8 9]\n",
            "[0 4 9]\n",
            "[1 3 5 7]\n",
            "[2 3 4 5]\n",
            "[0 1 2 3 4] [5 6 7 8 9]\n"
          ]
        }
      ]
    },
    {
      "cell_type": "code",
      "source": [
        "A = np.array([[1, 2, 3, 4], [5, 6, 7, 8]])\n",
        "B = A[::-1]                     # From last to first\n",
        "C = A[:, ::-1]                  # Take all elements, from last to first inside\n",
        "print(A)\n",
        "print(B)\n",
        "print(C)"
      ],
      "metadata": {
        "colab": {
          "base_uri": "https://localhost:8080/"
        },
        "id": "xtZZiuIqTiY6",
        "outputId": "34936760-99f5-455a-ab04-777a98cc8f95"
      },
      "execution_count": 3,
      "outputs": [
        {
          "output_type": "stream",
          "name": "stdout",
          "text": [
            "[[1 2 3 4]\n",
            " [5 6 7 8]]\n",
            "[[5 6 7 8]\n",
            " [1 2 3 4]]\n",
            "[[4 3 2 1]\n",
            " [8 7 6 5]]\n"
          ]
        }
      ]
    },
    {
      "cell_type": "code",
      "source": [
        "A = np.array([[1, 2, 3], [4, 5, 6]])\n",
        "I = np.array([[False, False, True], [ True, False, True]])\n",
        "A[I]"
      ],
      "metadata": {
        "colab": {
          "base_uri": "https://localhost:8080/"
        },
        "id": "oTVISZd3yVSA",
        "outputId": "018c050f-8504-4423-ec5e-472bc3d53cb3"
      },
      "execution_count": 160,
      "outputs": [
        {
          "output_type": "execute_result",
          "data": {
            "text/plain": [
              "array([3, 4, 6])"
            ]
          },
          "metadata": {},
          "execution_count": 160
        }
      ]
    },
    {
      "cell_type": "code",
      "source": [
        "A = np.array([[1, 2, 3], [4, 5, 6]])\n",
        "I = np.array([[False, True, False], [False, True, False]])      # Indexing array\n",
        "A[I] = 100\n",
        "A"
      ],
      "metadata": {
        "colab": {
          "base_uri": "https://localhost:8080/"
        },
        "id": "TZAwUj2Hzm_K",
        "outputId": "f2304cfc-bda0-421d-953d-2dcae7a93ecc"
      },
      "execution_count": 161,
      "outputs": [
        {
          "output_type": "execute_result",
          "data": {
            "text/plain": [
              "array([[  1, 100,   3],\n",
              "       [  4, 100,   6]])"
            ]
          },
          "metadata": {},
          "execution_count": 161
        }
      ]
    },
    {
      "cell_type": "code",
      "source": [
        "A = np.array([[1, 2, 3], [4, 5, 6]])\n",
        "\n",
        "I1 = np.array([[False, False, True], [True, False, True]])\n",
        "I2 = np.array([[False, True, False], [False, False, True]])\n",
        "\n",
        "B = A.copy();  C = A.copy();  D = A.copy()\n",
        "\n",
        "B[np.logical_and(I1, I2)] = 100\n",
        "C[np.logical_or(I1, I2)] = 100\n",
        "D[np.logical_not(I1)] = 100\n",
        "\n",
        "print('B:\\n', B)\n",
        "print('\\nC:\\n', C)\n",
        "print('\\nD:\\n', D)"
      ],
      "metadata": {
        "colab": {
          "base_uri": "https://localhost:8080/"
        },
        "id": "BVC2b4YU0J27",
        "outputId": "2b02eb38-1a73-430b-f184-f712954a1dce"
      },
      "execution_count": 162,
      "outputs": [
        {
          "output_type": "stream",
          "name": "stdout",
          "text": [
            "B:\n",
            " [[  1   2   3]\n",
            " [  4   5 100]]\n",
            "\n",
            "C:\n",
            " [[  1 100 100]\n",
            " [100   5 100]]\n",
            "\n",
            "D:\n",
            " [[100 100   3]\n",
            " [  4 100   6]]\n"
          ]
        }
      ]
    },
    {
      "cell_type": "code",
      "source": [
        "A = np.array([[1, 2, 3], [4, 5, 6]])\n",
        "print('A before:\\n', A)\n",
        "\n",
        "I = A > 3\n",
        "print('I:\\n', I)\n",
        "\n",
        "A[np.logical_or(A < 2, A > 4)] = 100\n",
        "print('A after:\\n', A)"
      ],
      "metadata": {
        "colab": {
          "base_uri": "https://localhost:8080/"
        },
        "id": "9_eN-6rh1Lwe",
        "outputId": "5e13c929-c41e-449e-ccfe-c9f58bde72f3"
      },
      "execution_count": 170,
      "outputs": [
        {
          "output_type": "stream",
          "name": "stdout",
          "text": [
            "A before:\n",
            " [[1 2 3]\n",
            " [4 5 6]]\n",
            "I:\n",
            " [[False False False]\n",
            " [ True  True  True]]\n",
            "A after:\n",
            " [[100   2   3]\n",
            " [  4 100 100]]\n"
          ]
        }
      ]
    },
    {
      "cell_type": "code",
      "source": [
        "A = np.arange(24)\n",
        "B = A.reshape(4, 6)             # 4 * 6 = 24\n",
        "C = A.reshape(2, 3, 4)          # 2 * 3 * 4 = 24\n",
        "# These are different representations of the same data\n",
        "C[0, 0, 0] = -1\n",
        "print('A:\\n', A)\n",
        "print('\\nB:\\n', B)\n",
        "print('\\nC:\\n', C)"
      ],
      "metadata": {
        "colab": {
          "base_uri": "https://localhost:8080/"
        },
        "id": "ZzkjZGOA6AJG",
        "outputId": "2be43c20-f439-4ab5-c2a1-78079b780a79"
      },
      "execution_count": 176,
      "outputs": [
        {
          "output_type": "stream",
          "name": "stdout",
          "text": [
            "A:\n",
            " [-1  1  2  3  4  5  6  7  8  9 10 11 12 13 14 15 16 17 18 19 20 21 22 23]\n",
            "\n",
            "B:\n",
            " [[-1  1  2  3  4  5]\n",
            " [ 6  7  8  9 10 11]\n",
            " [12 13 14 15 16 17]\n",
            " [18 19 20 21 22 23]]\n",
            "\n",
            "C:\n",
            " [[[-1  1  2  3]\n",
            "  [ 4  5  6  7]\n",
            "  [ 8  9 10 11]]\n",
            "\n",
            " [[12 13 14 15]\n",
            "  [16 17 18 19]\n",
            "  [20 21 22 23]]]\n"
          ]
        }
      ]
    },
    {
      "cell_type": "code",
      "source": [
        "A = np.array([[1, 2, 3], [4, 5, 6]])\n",
        "print(A)\n",
        "print(A.reshape(3, 2))\n",
        "print(A.reshape(6, 1))\n",
        "print(A.reshape(1, 6))\n",
        "print(A.ravel())"
      ],
      "metadata": {
        "colab": {
          "base_uri": "https://localhost:8080/"
        },
        "id": "uVKM4Ae2GC8N",
        "outputId": "b120992f-a214-44fd-e893-96cf43b82d12"
      },
      "execution_count": 194,
      "outputs": [
        {
          "output_type": "stream",
          "name": "stdout",
          "text": [
            "[[1 2 3]\n",
            " [4 5 6]]\n",
            "[[1 2]\n",
            " [3 4]\n",
            " [5 6]]\n",
            "[[1]\n",
            " [2]\n",
            " [3]\n",
            " [4]\n",
            " [5]\n",
            " [6]]\n",
            "[[1 2 3 4 5 6]]\n",
            "[1 2 3 4 5 6]\n"
          ]
        }
      ]
    },
    {
      "cell_type": "code",
      "source": [
        "A = np.arange(24)\n",
        "B = A.reshape(-1, 6)            # -1 means \"calculate automatically\"\n",
        "C = A.reshape(4, -1, 2)         # -1 means \"calculate automatically\"\n",
        "print(B.shape, C.shape)"
      ],
      "metadata": {
        "colab": {
          "base_uri": "https://localhost:8080/"
        },
        "id": "UWarSW02IKCD",
        "outputId": "519f7bcb-9f69-443c-d128-eba3597f19d6"
      },
      "execution_count": 199,
      "outputs": [
        {
          "output_type": "stream",
          "name": "stdout",
          "text": [
            "(4, 6) (4, 3, 2)\n"
          ]
        }
      ]
    },
    {
      "cell_type": "code",
      "source": [
        "A = np.arange(12)\n",
        "B = A.reshape(3, 4)\n",
        "print(B)\n",
        "print(\"Size:\", B.size)\n",
        "print(\"Dim:\", B.ndim)\n",
        "print(\"Shape:\", B.shape)"
      ],
      "metadata": {
        "colab": {
          "base_uri": "https://localhost:8080/"
        },
        "id": "p95wpL64EU9d",
        "outputId": "0e70d400-8477-4212-fda0-ab807126a7cc"
      },
      "execution_count": 200,
      "outputs": [
        {
          "output_type": "stream",
          "name": "stdout",
          "text": [
            "[[ 0  1  2  3]\n",
            " [ 4  5  6  7]\n",
            " [ 8  9 10 11]]\n",
            "Size: 12\n",
            "Dim: 2\n",
            "Shape: (3, 4)\n"
          ]
        }
      ]
    },
    {
      "cell_type": "code",
      "source": [
        "A = np.array([[1, 2, 3], [4, 5, 6]])\n",
        "B = A.T                         # Matrix transposition\n",
        "B = np.transpose(A)             # Matrix transposition\n",
        "B = np.swapaxes(A, 0, 1)\n",
        "print('A:\\n', A)\n",
        "print('B:\\n', B)"
      ],
      "metadata": {
        "colab": {
          "base_uri": "https://localhost:8080/"
        },
        "id": "XppUHpxXLCVG",
        "outputId": "dcd6f2da-d704-4e48-cd41-ed0dccfe8e97"
      },
      "execution_count": 213,
      "outputs": [
        {
          "output_type": "stream",
          "name": "stdout",
          "text": [
            "A:\n",
            " [[1 2 3]\n",
            " [4 5 6]]\n",
            "B:\n",
            " [[1 4]\n",
            " [2 5]\n",
            " [3 6]]\n"
          ]
        }
      ]
    },
    {
      "cell_type": "code",
      "source": [
        "A = np.zeros((3, 3), 'int32')\n",
        "B = np.ones((3, 3), 'int32')\n",
        "\n",
        "C = np.stack((A, B), axis=0)        # Join arrays along a new axis\n",
        "D = np.stack((A, B), axis=1)        # Join arrays along a new axis\n",
        "\n",
        "print(C, '\\nShape:', C.shape, '\\n')\n",
        "print(D, '\\nShape:', D.shape)"
      ],
      "metadata": {
        "colab": {
          "base_uri": "https://localhost:8080/"
        },
        "id": "rg3s28a3PapH",
        "outputId": "252087b3-2d25-468f-ec96-74659836443f"
      },
      "execution_count": 32,
      "outputs": [
        {
          "output_type": "stream",
          "name": "stdout",
          "text": [
            "[[[0 0 0]\n",
            "  [0 0 0]\n",
            "  [0 0 0]]\n",
            "\n",
            " [[1 1 1]\n",
            "  [1 1 1]\n",
            "  [1 1 1]]] \n",
            "Shape: (2, 3, 3) \n",
            "\n",
            "[[[0 0 0]\n",
            "  [1 1 1]]\n",
            "\n",
            " [[0 0 0]\n",
            "  [1 1 1]]\n",
            "\n",
            " [[0 0 0]\n",
            "  [1 1 1]]] \n",
            "Shape: (3, 2, 3)\n"
          ]
        }
      ]
    },
    {
      "cell_type": "code",
      "source": [
        "A = np.zeros((3, 3), 'int32')\n",
        "B = np.ones((3, 3), 'int32')\n",
        "\n",
        "C = np.concatenate((A, B), 0)       # Joins arrays along an existing axis\n",
        "D = np.concatenate((A, B), 1)       # Joins arrays along an existing axis\n",
        "\n",
        "print(C, '\\nShape:', C.shape, '\\n')\n",
        "print(D, '\\nShape:', D.shape)"
      ],
      "metadata": {
        "colab": {
          "base_uri": "https://localhost:8080/"
        },
        "id": "Ns8SXLfIvFxK",
        "outputId": "00996c68-42cc-4e73-b57d-c0bb17260558"
      },
      "execution_count": 31,
      "outputs": [
        {
          "output_type": "stream",
          "name": "stdout",
          "text": [
            "[[0 0 0]\n",
            " [0 0 0]\n",
            " [0 0 0]\n",
            " [1 1 1]\n",
            " [1 1 1]\n",
            " [1 1 1]] \n",
            "Shape: (6, 3) \n",
            "\n",
            "[[0 0 0 1 1 1]\n",
            " [0 0 0 1 1 1]\n",
            " [0 0 0 1 1 1]] \n",
            "Shape: (3, 6)\n"
          ]
        }
      ]
    },
    {
      "cell_type": "code",
      "source": [
        "A = np.zeros((3, 3), 'int32')\n",
        "B = np.ones((3, 3), 'int32')\n",
        "\n",
        "C = np.vstack((A, B))               # Stacks arrays vertically (row-wise)\n",
        "D = np.hstack((A, B))               # Stacks arrays horizontally (column-wise)\n",
        "\n",
        "print(C, '\\nShape:', C.shape, '\\n')\n",
        "print(D, '\\nShape:', D.shape, '\\n')"
      ],
      "metadata": {
        "colab": {
          "base_uri": "https://localhost:8080/"
        },
        "id": "N7PRGMXPwns5",
        "outputId": "921e98eb-a653-4377-cf85-09b6f0407881"
      },
      "execution_count": 34,
      "outputs": [
        {
          "output_type": "stream",
          "name": "stdout",
          "text": [
            "[[0 0 0]\n",
            " [0 0 0]\n",
            " [0 0 0]\n",
            " [1 1 1]\n",
            " [1 1 1]\n",
            " [1 1 1]] \n",
            "Shape: (6, 3) \n",
            "\n",
            "[[0 0 0 1 1 1]\n",
            " [0 0 0 1 1 1]\n",
            " [0 0 0 1 1 1]] \n",
            "Shape: (3, 6) \n",
            "\n"
          ]
        }
      ]
    },
    {
      "cell_type": "code",
      "source": [],
      "metadata": {
        "id": "20CtfiHo2pj3"
      },
      "execution_count": null,
      "outputs": []
    }
  ]
}