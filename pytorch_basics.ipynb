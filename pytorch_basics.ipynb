{
  "nbformat": 4,
  "nbformat_minor": 0,
  "metadata": {
    "colab": {
      "provenance": [],
      "gpuType": "T4",
      "include_colab_link": true
    },
    "kernelspec": {
      "name": "python3",
      "display_name": "Python 3"
    },
    "language_info": {
      "name": "python"
    },
    "accelerator": "GPU"
  },
  "cells": [
    {
      "cell_type": "markdown",
      "metadata": {
        "id": "view-in-github",
        "colab_type": "text"
      },
      "source": [
        "<a href=\"https://colab.research.google.com/github/oleg0x/Python_libraries_examples/blob/main/pytorch_basics.ipynb\" target=\"_parent\"><img src=\"https://colab.research.google.com/assets/colab-badge.svg\" alt=\"Open In Colab\"/></a>"
      ]
    },
    {
      "cell_type": "code",
      "execution_count": 1,
      "metadata": {
        "id": "aSqAUaA3r7EJ"
      },
      "outputs": [],
      "source": [
        "import torch"
      ]
    },
    {
      "cell_type": "code",
      "source": [
        "print(torch.__version__)\n",
        "print(torch.__all__)"
      ],
      "metadata": {
        "colab": {
          "base_uri": "https://localhost:8080/"
        },
        "id": "zGYWbJkkQPBI",
        "outputId": "5bb8d362-7e08-44fd-99ac-7bf7365a13f4"
      },
      "execution_count": 2,
      "outputs": [
        {
          "output_type": "stream",
          "name": "stdout",
          "text": [
            "2.6.0+cu124\n",
            "['BoolStorage', 'BoolTensor', 'ByteStorage', 'ByteTensor', 'CharStorage', 'CharTensor', 'DoubleStorage', 'DoubleTensor', 'FloatStorage', 'FloatTensor', 'GradScaler', 'IntStorage', 'IntTensor', 'LongStorage', 'LongTensor', 'ShortStorage', 'ShortTensor', 'SymBool', 'SymFloat', 'SymInt', 'Tensor', 'TypedStorage', 'UntypedStorage', 'are_deterministic_algorithms_enabled', 'autocast', 'chunk', 'compile', 'cond', 'enable_grad', 'export', 'get_default_device', 'get_deterministic_debug_mode', 'get_device_module', 'get_float32_matmul_precision', 'get_rng_state', 'inference_mode', 'initial_seed', 'is_deterministic_algorithms_warn_only_enabled', 'is_storage', 'is_tensor', 'is_warn_always_enabled', 'load', 'lobpcg', 'manual_seed', 'matmul', 'no_grad', 'rand', 'randn', 'save', 'seed', 'set_default_device', 'set_default_tensor_type', 'set_deterministic_debug_mode', 'set_float32_matmul_precision', 'set_printoptions', 'set_rng_state', 'set_warn_always', 'split', 'stack', 'sym_float', 'sym_fresh_size', 'sym_int', 'sym_ite', 'sym_max', 'sym_min', 'sym_not', 'sym_sum', 'typename', 'unravel_index', 'use_deterministic_algorithms', 'vmap', 'sym_sqrt', 'AVG', 'AggregationType', 'AliasDb', 'AnyType', 'Argument', 'ArgumentSpec', 'AwaitType', 'BenchmarkConfig', 'BenchmarkExecutionStats', 'Block', 'BoolType', 'BufferDict', 'CallStack', 'Capsule', 'ClassType', 'Code', 'CompilationUnit', 'CompleteArgumentSpec', 'ComplexType', 'ConcreteModuleType', 'ConcreteModuleTypeBuilder', 'DeepCopyMemoTable', 'DeserializationStorageContext', 'DeviceObjType', 'DictType', 'DisableTorchFunction', 'DisableTorchFunctionSubclass', 'DispatchKey', 'DispatchKeySet', 'EnumType', 'ErrorReport', 'Event', 'ExcludeDispatchKeyGuard', 'ExecutionPlan', 'FatalError', 'FileCheck', 'FloatType', 'FunctionSchema', 'Future', 'FutureType', 'Generator', 'Gradient', 'Graph', 'GraphExecutorState', 'IODescriptor', 'InferredType', 'IntType', 'InterfaceType', 'JITException', 'ListType', 'LiteScriptModule', 'LockingLogger', 'ModuleDict', 'Node', 'NoneType', 'NoopLogger', 'NumberType', 'OperatorInfo', 'OptionalType', 'OutOfMemoryError', 'ParameterDict', 'PyObjectType', 'PyTorchFileReader', 'PyTorchFileWriter', 'RRefType', 'SUM', 'ScriptClass', 'ScriptClassFunction', 'ScriptDict', 'ScriptDictIterator', 'ScriptDictKeyIterator', 'ScriptFunction', 'ScriptList', 'ScriptListIterator', 'ScriptMethod', 'ScriptModule', 'ScriptModuleSerializer', 'ScriptObject', 'ScriptObjectProperty', 'SerializationStorageContext', 'Size', 'StaticModule', 'Stream', 'StreamObjType', 'StringType', 'SymBoolType', 'SymIntType', 'Tag', 'TensorType', 'ThroughputBenchmark', 'TracingState', 'TupleType', 'Type', 'UnionType', 'Use', 'Value', 'autocast_decrement_nesting', 'autocast_increment_nesting', 'clear_autocast_cache', 'cpp', 'default_generator', 'device', 'dtype', 'finfo', 'fork', 'get_autocast_cpu_dtype', 'get_autocast_dtype', 'get_autocast_gpu_dtype', 'get_autocast_ipu_dtype', 'get_autocast_xla_dtype', 'get_default_dtype', 'get_num_interop_threads', 'get_num_threads', 'has_lapack', 'has_mkl', 'has_openmp', 'has_spectral', 'iinfo', 'import_ir_module', 'import_ir_module_from_buffer', 'init_num_threads', 'is_anomaly_check_nan_enabled', 'is_anomaly_enabled', 'is_autocast_cache_enabled', 'is_autocast_cpu_enabled', 'is_autocast_enabled', 'is_autocast_ipu_enabled', 'is_autocast_xla_enabled', 'is_grad_enabled', 'is_inference_mode_enabled', 'layout', 'memory_format', 'merge_type_from_type_comment', 'parse_ir', 'parse_schema', 'parse_type_comment', 'qscheme', 'read_vitals', 'set_anomaly_enabled', 'set_autocast_cache_enabled', 'set_autocast_cpu_dtype', 'set_autocast_cpu_enabled', 'set_autocast_dtype', 'set_autocast_enabled', 'set_autocast_gpu_dtype', 'set_autocast_ipu_dtype', 'set_autocast_ipu_enabled', 'set_autocast_xla_dtype', 'set_autocast_xla_enabled', 'set_flush_denormal', 'set_num_interop_threads', 'set_num_threads', 'set_vital', 'unify_type_list', 'vitals_enabled', 'wait', 'e', 'pi', 'nan', 'inf', 'newaxis', 'abs', 'abs_', 'absolute', 'acos', 'acos_', 'acosh', 'acosh_', 'adaptive_avg_pool1d', 'adaptive_max_pool1d', 'add', 'addbmm', 'addcdiv', 'addcmul', 'addmm', 'addmv', 'addmv_', 'addr', 'adjoint', 'affine_grid_generator', 'alias_copy', 'align_tensors', 'all', 'allclose', 'alpha_dropout', 'alpha_dropout_', 'amax', 'amin', 'aminmax', 'angle', 'any', 'arange', 'arccos', 'arccos_', 'arccosh', 'arccosh_', 'arcsin', 'arcsin_', 'arcsinh', 'arcsinh_', 'arctan', 'arctan2', 'arctan_', 'arctanh', 'arctanh_', 'argmax', 'argmin', 'argsort', 'argwhere', 'as_strided', 'as_strided_', 'as_strided_copy', 'as_strided_scatter', 'as_tensor', 'asarray', 'asin', 'asin_', 'asinh', 'asinh_', 'atan', 'atan2', 'atan_', 'atanh', 'atanh_', 'atleast_1d', 'atleast_2d', 'atleast_3d', 'avg_pool1d', 'baddbmm', 'bartlett_window', 'batch_norm', 'batch_norm_backward_elemt', 'batch_norm_backward_reduce', 'batch_norm_elemt', 'batch_norm_gather_stats', 'batch_norm_gather_stats_with_counts', 'batch_norm_stats', 'batch_norm_update_stats', 'bernoulli', 'bilinear', 'binary_cross_entropy_with_logits', 'bincount', 'binomial', 'bitwise_and', 'bitwise_left_shift', 'bitwise_not', 'bitwise_or', 'bitwise_right_shift', 'bitwise_xor', 'blackman_window', 'block_diag', 'bmm', 'broadcast_tensors', 'broadcast_to', 'bucketize', 'can_cast', 'cartesian_prod', 'cat', 'ccol_indices_copy', 'cdist', 'ceil', 'ceil_', 'celu', 'celu_', 'chain_matmul', 'channel_shuffle', 'cholesky', 'cholesky_inverse', 'cholesky_solve', 'choose_qparams_optimized', 'chunk', 'clamp', 'clamp_', 'clamp_max', 'clamp_max_', 'clamp_min', 'clamp_min_', 'clip', 'clip_', 'clone', 'col_indices_copy', 'column_stack', 'combinations', 'complex', 'concat', 'concatenate', 'conj', 'conj_physical', 'conj_physical_', 'constant_pad_nd', 'conv1d', 'conv2d', 'conv3d', 'conv_tbc', 'conv_transpose1d', 'conv_transpose2d', 'conv_transpose3d', 'convolution', 'copysign', 'corrcoef', 'cos', 'cos_', 'cosh', 'cosh_', 'cosine_embedding_loss', 'cosine_similarity', 'count_nonzero', 'cov', 'cross', 'crow_indices_copy', 'ctc_loss', 'cudnn_affine_grid_generator', 'cudnn_batch_norm', 'cudnn_convolution', 'cudnn_convolution_add_relu', 'cudnn_convolution_relu', 'cudnn_convolution_transpose', 'cudnn_grid_sampler', 'cudnn_is_acceptable', 'cummax', 'cummin', 'cumprod', 'cumsum', 'cumulative_trapezoid', 'deg2rad', 'deg2rad_', 'dequantize', 'det', 'detach', 'detach_', 'detach_copy', 'diag', 'diag_embed', 'diagflat', 'diagonal', 'diagonal_copy', 'diagonal_scatter', 'diff', 'digamma', 'dist', 'div', 'divide', 'dot', 'dropout', 'dropout_', 'dsmm', 'dsplit', 'dstack', 'einsum', 'embedding', 'embedding_bag', 'embedding_renorm_', 'empty', 'empty_like', 'empty_permuted', 'empty_quantized', 'empty_strided', 'eq', 'equal', 'erf', 'erf_', 'erfc', 'erfc_', 'erfinv', 'exp', 'exp2', 'exp2_', 'exp_', 'expand_copy', 'expm1', 'expm1_', 'eye', 'fake_quantize_per_channel_affine', 'fake_quantize_per_tensor_affine', 'fbgemm_linear_fp16_weight', 'fbgemm_linear_fp16_weight_fp32_activation', 'fbgemm_linear_int8_weight', 'fbgemm_linear_int8_weight_fp32_activation', 'fbgemm_linear_quantize_weight', 'fbgemm_pack_gemm_matrix_fp16', 'fbgemm_pack_quantized_matrix', 'feature_alpha_dropout', 'feature_alpha_dropout_', 'feature_dropout', 'feature_dropout_', 'fill', 'fill_', 'fix', 'fix_', 'flatten', 'flip', 'fliplr', 'flipud', 'float_power', 'floor', 'floor_', 'floor_divide', 'fmax', 'fmin', 'fmod', 'frac', 'frac_', 'frexp', 'frobenius_norm', 'from_file', 'from_numpy', 'frombuffer', 'full', 'full_like', 'fused_moving_avg_obs_fake_quant', 'gather', 'gcd', 'gcd_', 'ge', 'geqrf', 'ger', 'get_device', 'gradient', 'greater', 'greater_equal', 'grid_sampler', 'grid_sampler_2d', 'grid_sampler_3d', 'group_norm', 'gru', 'gru_cell', 'gt', 'hamming_window', 'hann_window', 'hardshrink', 'heaviside', 'hinge_embedding_loss', 'histc', 'histogram', 'histogramdd', 'hsmm', 'hsplit', 'hspmm', 'hstack', 'hypot', 'i0', 'i0_', 'igamma', 'igammac', 'imag', 'index_add', 'index_copy', 'index_fill', 'index_put', 'index_put_', 'index_reduce', 'index_select', 'indices_copy', 'inner', 'instance_norm', 'int_repr', 'inverse', 'is_complex', 'is_conj', 'is_distributed', 'is_floating_point', 'is_inference', 'is_neg', 'is_nonzero', 'is_same_size', 'is_signed', 'is_vulkan_available', 'isclose', 'isfinite', 'isin', 'isinf', 'isnan', 'isneginf', 'isposinf', 'isreal', 'istft', 'kaiser_window', 'kl_div', 'kron', 'kthvalue', 'layer_norm', 'lcm', 'lcm_', 'ldexp', 'ldexp_', 'le', 'lerp', 'less', 'less_equal', 'lgamma', 'linspace', 'log', 'log10', 'log10_', 'log1p', 'log1p_', 'log2', 'log2_', 'log_', 'log_softmax', 'logaddexp', 'logaddexp2', 'logcumsumexp', 'logdet', 'logical_and', 'logical_not', 'logical_or', 'logical_xor', 'logit', 'logit_', 'logspace', 'logsumexp', 'lstm', 'lstm_cell', 'lt', 'lu_solve', 'lu_unpack', 'margin_ranking_loss', 'masked_fill', 'masked_scatter', 'masked_select', 'matmul', 'matrix_exp', 'matrix_power', 'max', 'max_pool1d', 'max_pool1d_with_indices', 'max_pool2d', 'max_pool3d', 'maximum', 'mean', 'median', 'meshgrid', 'min', 'minimum', 'miopen_batch_norm', 'miopen_convolution', 'miopen_convolution_add_relu', 'miopen_convolution_relu', 'miopen_convolution_transpose', 'miopen_depthwise_convolution', 'miopen_rnn', 'mkldnn_adaptive_avg_pool2d', 'mkldnn_convolution', 'mkldnn_linear_backward_weights', 'mkldnn_max_pool2d', 'mkldnn_max_pool3d', 'mkldnn_rnn_layer', 'mm', 'mode', 'moveaxis', 'movedim', 'msort', 'mul', 'multinomial', 'multiply', 'mv', 'mvlgamma', 'nan_to_num', 'nan_to_num_', 'nanmean', 'nanmedian', 'nanquantile', 'nansum', 'narrow', 'narrow_copy', 'native_batch_norm', 'native_channel_shuffle', 'native_dropout', 'native_group_norm', 'native_layer_norm', 'native_norm', 'ne', 'neg', 'neg_', 'negative', 'negative_', 'nextafter', 'nonzero', 'nonzero_static', 'norm', 'norm_except_dim', 'normal', 'not_equal', 'nuclear_norm', 'numel', 'ones', 'ones_like', 'orgqr', 'ormqr', 'outer', 'pairwise_distance', 'pdist', 'permute', 'permute_copy', 'pinverse', 'pixel_shuffle', 'pixel_unshuffle', 'poisson', 'poisson_nll_loss', 'polar', 'polygamma', 'positive', 'pow', 'prelu', 'prod', 'promote_types', 'put', 'q_per_channel_axis', 'q_per_channel_scales', 'q_per_channel_zero_points', 'q_scale', 'q_zero_point', 'qr', 'quantile', 'quantize_per_channel', 'quantize_per_tensor', 'quantize_per_tensor_dynamic', 'quantized_batch_norm', 'quantized_gru_cell', 'quantized_lstm_cell', 'quantized_max_pool1d', 'quantized_max_pool2d', 'quantized_max_pool3d', 'quantized_rnn_relu_cell', 'quantized_rnn_tanh_cell', 'rad2deg', 'rad2deg_', 'rand', 'rand_like', 'randint', 'randint_like', 'randn', 'randn_like', 'randperm', 'range', 'ravel', 'real', 'reciprocal', 'reciprocal_', 'relu', 'relu_', 'remainder', 'renorm', 'repeat_interleave', 'reshape', 'resize_as_', 'resize_as_sparse_', 'resolve_conj', 'resolve_neg', 'result_type', 'rms_norm', 'rnn_relu', 'rnn_relu_cell', 'rnn_tanh', 'rnn_tanh_cell', 'roll', 'rot90', 'round', 'round_', 'row_indices_copy', 'row_stack', 'rrelu', 'rrelu_', 'rsqrt', 'rsqrt_', 'rsub', 'saddmm', 'scalar_tensor', 'scatter', 'scatter_add', 'scatter_reduce', 'searchsorted', 'select', 'select_copy', 'select_scatter', 'selu', 'selu_', 'sgn', 'sigmoid', 'sigmoid_', 'sign', 'signbit', 'sin', 'sin_', 'sinc', 'sinc_', 'sinh', 'sinh_', 'slice_copy', 'slice_inverse', 'slice_scatter', 'slogdet', 'smm', 'softmax', 'sort', 'sparse_bsc_tensor', 'sparse_bsr_tensor', 'sparse_compressed_tensor', 'sparse_coo_tensor', 'sparse_csc_tensor', 'sparse_csr_tensor', 'split', 'split_copy', 'split_with_sizes', 'split_with_sizes_copy', 'spmm', 'sqrt', 'sqrt_', 'square', 'square_', 'squeeze', 'squeeze_copy', 'sspaddmm', 'stack', 'std', 'std_mean', 'stft', 'sub', 'subtract', 'sum', 'svd', 'swapaxes', 'swapdims', 'sym_constrain_range', 'sym_constrain_range_for_size', 't', 't_copy', 'take', 'take_along_dim', 'tan', 'tan_', 'tanh', 'tanh_', 'tensor', 'tensor_split', 'tensordot', 'threshold', 'threshold_', 'tile', 'topk', 'trace', 'transpose', 'transpose_copy', 'trapezoid', 'trapz', 'triangular_solve', 'tril', 'tril_indices', 'triplet_margin_loss', 'triu', 'triu_indices', 'true_divide', 'trunc', 'trunc_', 'unbind', 'unbind_copy', 'unflatten', 'unfold_copy', 'unique_consecutive', 'unsafe_chunk', 'unsafe_split', 'unsafe_split_with_sizes', 'unsqueeze', 'unsqueeze_copy', 'values_copy', 'vander', 'var', 'var_mean', 'vdot', 'view_as_complex', 'view_as_complex_copy', 'view_as_real', 'view_as_real_copy', 'view_copy', 'vsplit', 'vstack', 'where', 'xlogy', 'xlogy_', 'zero_', 'zeros', 'zeros_like', 'bfloat16', 'bit', 'bits16', 'bits1x8', 'bits2x4', 'bits4x2', 'bits8', 'bool', 'cdouble', 'cfloat', 'chalf', 'complex128', 'complex32', 'complex64', 'double', 'float', 'float16', 'float32', 'float64', 'float8_e4m3fn', 'float8_e4m3fnuz', 'float8_e5m2', 'float8_e5m2fnuz', 'half', 'int', 'int1', 'int16', 'int2', 'int3', 'int32', 'int4', 'int5', 'int6', 'int64', 'int7', 'int8', 'long', 'qint32', 'qint8', 'quint2x4', 'quint4x2', 'quint8', 'short', 'uint1', 'uint16', 'uint2', 'uint3', 'uint32', 'uint4', 'uint5', 'uint6', 'uint64', 'uint7', 'uint8']\n"
          ]
        }
      ]
    },
    {
      "cell_type": "code",
      "source": [
        "all_dtypes = [str(getattr(torch, name)) for name in dir(torch)\n",
        "              if isinstance(getattr(torch, name), torch.dtype)]\n",
        "all_dtypes_unique = set(all_dtypes)\n",
        "\n",
        "bools = [t for t in all_dtypes_unique if \".bool\" in t]\n",
        "print(\"Bool:\", bools)\n",
        "ints = [t for t in all_dtypes_unique if \".int\" in t]\n",
        "print(\"Signed Int:\", ints)\n",
        "uints = [t for t in all_dtypes_unique if \".uint\" in t]\n",
        "print(\"Unsigned Int:\", uints)\n",
        "floats = [t for t in all_dtypes_unique if \"float\" in t]\n",
        "print(\"Float:\", floats)\n",
        "complexes = [t for t in all_dtypes_unique if \".complex\" in t]\n",
        "print(\"Complex:\", complexes)\n",
        "\n",
        "print('\\n', all_dtypes_unique)"
      ],
      "metadata": {
        "colab": {
          "base_uri": "https://localhost:8080/"
        },
        "id": "hO-OuOM8VSCP",
        "outputId": "26f97d62-1898-4749-d49e-5272811bf50b"
      },
      "execution_count": 3,
      "outputs": [
        {
          "output_type": "stream",
          "name": "stdout",
          "text": [
            "Bool: ['torch.bool']\n",
            "Signed Int: ['torch.int4', 'torch.int3', 'torch.int8', 'torch.int5', 'torch.int7', 'torch.int1', 'torch.int6', 'torch.int64', 'torch.int16', 'torch.int2', 'torch.int32']\n",
            "Unsigned Int: ['torch.uint1', 'torch.uint7', 'torch.uint64', 'torch.uint2', 'torch.uint32', 'torch.uint16', 'torch.uint5', 'torch.uint4', 'torch.uint6', 'torch.uint3', 'torch.uint8']\n",
            "Float: ['torch.float32', 'torch.float8_e5m2fnuz', 'torch.bfloat16', 'torch.float8_e4m3fn', 'torch.float16', 'torch.float64', 'torch.float8_e4m3fnuz', 'torch.float8_e5m2']\n",
            "Complex: ['torch.complex32', 'torch.complex64', 'torch.complex128']\n",
            "\n",
            " {'torch.quint4x2', 'torch.float32', 'torch.int4', 'torch.bits16', 'torch.float8_e5m2fnuz', 'torch.complex32', 'torch.complex64', 'torch.int3', 'torch.int8', 'torch.int5', 'torch.uint1', 'torch.int7', 'torch.quint2x4', 'torch.bool', 'torch.int1', 'torch.quint8', 'torch.bits1x8', 'torch.uint7', 'torch.bfloat16', 'torch.uint64', 'torch.int6', 'torch.uint2', 'torch.uint32', 'torch.int64', 'torch.qint32', 'torch.bits2x4', 'torch.uint16', 'torch.float8_e4m3fn', 'torch.float16', 'torch.uint5', 'torch.complex128', 'torch.float64', 'torch.uint4', 'torch.bits8', 'torch.float8_e4m3fnuz', 'torch.uint6', 'torch.float8_e5m2', 'torch.bits4x2', 'torch.int16', 'torch.qint8', 'torch.int2', 'torch.uint3', 'torch.int32', 'torch.uint8'}\n"
          ]
        }
      ]
    },
    {
      "cell_type": "code",
      "execution_count": 4,
      "metadata": {
        "colab": {
          "base_uri": "https://localhost:8080/"
        },
        "outputId": "56612816-bff8-4fe9-bf21-452e672ba4ee",
        "id": "AoE323x0uxwT"
      },
      "outputs": [
        {
          "output_type": "stream",
          "name": "stdout",
          "text": [
            "tensor([4.7851e+22])\n",
            "4.7851115335980964e+22 \n",
            "\n",
            "tensor([1.2085e+02, 0.0000e+00, 1.7835e-22, 4.3065e-41, 8.9683e-44]) \n",
            "\n",
            "tensor([[0.0000e+00, 0.0000e+00, 2.0812e+02, 0.0000e+00],\n",
            "        [2.8723e+01, 0.0000e+00, 5.9898e-27, 4.3063e-41],\n",
            "        [1.4013e-45, 0.0000e+00, 5.6052e-45, 0.0000e+00]]) \n",
            "\n",
            "<class 'torch.Tensor'>\n"
          ]
        }
      ],
      "source": [
        "# Tensor filled with uninitialized data\n",
        "a = torch.empty(1)                  # Single-element tensor\n",
        "print(a)\n",
        "val = a.item()                      # Value of that tensor\n",
        "print(val, '\\n')\n",
        "\n",
        "b = torch.empty(5)                  # Vector of lenght 5 as tensor\n",
        "print(b, '\\n')\n",
        "\n",
        "c = torch.empty(3, 4)               # 3x4 matrix as tensor\n",
        "print(c, '\\n')\n",
        "\n",
        "d = torch.empty(2,2,2,3)            # 4 dim tensor\n",
        "print(type(d))"
      ]
    },
    {
      "cell_type": "code",
      "source": [
        "a = torch.zeros(2, 4, dtype=torch.int16)        # Tensor filled with value 0\n",
        "print(a, '\\n')\n",
        "\n",
        "b = torch.ones(2, 4)                            # Tensor filled with value 1\n",
        "c = torch.ones(5, dtype=torch.bool)             # Tensor filled with 'True'\n",
        "print(b)\n",
        "print(c, '\\n')\n",
        "\n",
        "e = torch.eye(3, 3)\n",
        "print(e, '\\n')\n",
        "\n",
        "data = [[1, 2, 3],[4, 5, 6]]\n",
        "x_data = torch.tensor(data)                     # Tensor from list\n",
        "print(x_data)"
      ],
      "metadata": {
        "colab": {
          "base_uri": "https://localhost:8080/"
        },
        "id": "VdOhZ_y8uRm9",
        "outputId": "eadde3cb-bc41-4453-c071-03f006e848f8"
      },
      "execution_count": 5,
      "outputs": [
        {
          "output_type": "stream",
          "name": "stdout",
          "text": [
            "tensor([[0, 0, 0, 0],\n",
            "        [0, 0, 0, 0]], dtype=torch.int16) \n",
            "\n",
            "tensor([[1., 1., 1., 1.],\n",
            "        [1., 1., 1., 1.]])\n",
            "tensor([True, True, True, True, True]) \n",
            "\n",
            "tensor([[1., 0., 0.],\n",
            "        [0., 1., 0.],\n",
            "        [0., 0., 1.]]) \n",
            "\n",
            "tensor([[1, 2, 3],\n",
            "        [4, 5, 6]])\n"
          ]
        }
      ]
    },
    {
      "cell_type": "code",
      "source": [
        "x1 = torch.rand(3, 5, dtype=torch.bfloat16)         # Tensor filled with random numbers from a uniform distribution on [0, 1)\n",
        "print(x1, '\\n')\n",
        "\n",
        "x2 = torch.randn(2, 3, dtype=torch.float32)         # Tensor filled with random numbers from a normal distribution with mean 0 and variance 1 (standard normal distribution).\n",
        "print(x2)\n",
        "print(x2.dtype, '\\n')\n",
        "\n",
        "y = torch.randint(low=1, high=100, size=(3, 5), dtype=torch.uint8)      # Tensor filled with random integers generated uniformly from [low, high)\n",
        "print(y)\n",
        "print(y.dtype)"
      ],
      "metadata": {
        "colab": {
          "base_uri": "https://localhost:8080/"
        },
        "id": "A5hAdeCvtPyq",
        "outputId": "c06b6faf-9261-495c-d9c3-e7ca00859021"
      },
      "execution_count": 6,
      "outputs": [
        {
          "output_type": "stream",
          "name": "stdout",
          "text": [
            "tensor([[0.9492, 0.7031, 0.5312, 0.8164, 0.9297],\n",
            "        [0.2734, 0.9492, 0.0312, 0.1562, 0.8281],\n",
            "        [0.4688, 0.5352, 0.0742, 0.4961, 0.0508]], dtype=torch.bfloat16) \n",
            "\n",
            "tensor([[-0.1142,  1.0412, -1.3919],\n",
            "        [ 1.0939,  2.1491, -0.3756]])\n",
            "torch.float32 \n",
            "\n",
            "tensor([[98, 87, 35, 69, 43],\n",
            "        [90, 10, 40, 17, 17],\n",
            "        [43, 81, 40, 15, 47]], dtype=torch.uint8)\n",
            "torch.uint8\n"
          ]
        }
      ]
    },
    {
      "cell_type": "code",
      "source": [
        "x = torch.empty(3, 3)\n",
        "\n",
        "x.zero_()\n",
        "print(x)\n",
        "\n",
        "x.fill_(42)\n",
        "print(x)\n",
        "\n",
        "x.random_(10, 100)\n",
        "print(x)\n",
        "\n",
        "x.uniform_()\n",
        "print(x)\n",
        "\n",
        "x.normal_()\n",
        "print(x)"
      ],
      "metadata": {
        "colab": {
          "base_uri": "https://localhost:8080/"
        },
        "id": "526jdJyYjWQB",
        "outputId": "647c605c-d0fa-48de-8cb5-93e8850668aa"
      },
      "execution_count": 7,
      "outputs": [
        {
          "output_type": "stream",
          "name": "stdout",
          "text": [
            "tensor([[0., 0., 0.],\n",
            "        [0., 0., 0.],\n",
            "        [0., 0., 0.]])\n",
            "tensor([[42., 42., 42.],\n",
            "        [42., 42., 42.],\n",
            "        [42., 42., 42.]])\n",
            "tensor([[63., 53., 97.],\n",
            "        [89., 70., 49.],\n",
            "        [38., 18., 98.]])\n",
            "tensor([[0.3429, 0.3037, 0.0852],\n",
            "        [0.0217, 0.5570, 0.1226],\n",
            "        [0.9898, 0.0880, 0.6225]])\n",
            "tensor([[ 0.9013, -0.2936,  0.4873],\n",
            "        [-1.3071, -1.1541,  0.6366],\n",
            "        [-0.5746,  0.7408, -0.1050]])\n"
          ]
        }
      ]
    },
    {
      "cell_type": "code",
      "source": [
        "print(y.dim())\n",
        "print(y.size(), y.shape)"
      ],
      "metadata": {
        "colab": {
          "base_uri": "https://localhost:8080/"
        },
        "id": "EnSje6Qet_2p",
        "outputId": "2c3996b6-77d1-477f-a29d-a7c79a9d2b35"
      },
      "execution_count": 8,
      "outputs": [
        {
          "output_type": "stream",
          "name": "stdout",
          "text": [
            "2\n",
            "torch.Size([3, 5]) torch.Size([3, 5])\n"
          ]
        }
      ]
    },
    {
      "cell_type": "code",
      "source": [
        "t = torch.tensor([[1, 2, 3, 4], [5, 6, 7, 8], [9, 10, 11, 12], [13, 14, 15, 16]])\n",
        "print(t, '\\n')\n",
        "print(f\"First row: {t[0, :]} {t[0]}\")\n",
        "print(f\"First column: {t[:, 0]}\")\n",
        "print(f\"Last row: {t[-1, :]} {t[-1]}\")\n",
        "print(f\"Last column: {t[:, -1]}\")\n",
        "\n",
        "t[..., 2] = 0           # ... can be used instead of :\n",
        "t[1, ...] = 0           # ... can be used instead of :\n",
        "t[1, 2] = 42            # Access one element\n",
        "print(t)"
      ],
      "metadata": {
        "colab": {
          "base_uri": "https://localhost:8080/"
        },
        "id": "P9uKiDDLgNus",
        "outputId": "347a9b71-ea4d-4cd4-e28b-76fc854e1d04"
      },
      "execution_count": 9,
      "outputs": [
        {
          "output_type": "stream",
          "name": "stdout",
          "text": [
            "tensor([[ 1,  2,  3,  4],\n",
            "        [ 5,  6,  7,  8],\n",
            "        [ 9, 10, 11, 12],\n",
            "        [13, 14, 15, 16]]) \n",
            "\n",
            "First row: tensor([1, 2, 3, 4]) tensor([1, 2, 3, 4])\n",
            "First column: tensor([ 1,  5,  9, 13])\n",
            "Last row: tensor([13, 14, 15, 16]) tensor([13, 14, 15, 16])\n",
            "Last column: tensor([ 4,  8, 12, 16])\n",
            "tensor([[ 1,  2,  0,  4],\n",
            "        [ 0,  0, 42,  0],\n",
            "        [ 9, 10,  0, 12],\n",
            "        [13, 14,  0, 16]])\n"
          ]
        }
      ]
    },
    {
      "cell_type": "code",
      "source": [
        "x = torch.randint(-5, 6, (2, 2))\n",
        "y = torch.randint(-5, 6, (2, 2))\n",
        "print(x)\n",
        "print(y, '\\n')\n",
        "\n",
        "# Element-wise operations\n",
        "z1 = x + y;  z1 = torch.add(x, y)\n",
        "z2 = x - y;  z2 = torch.sub(x, y)\n",
        "z3 = x * y;  z3 = torch.mul(x, y)\n",
        "z4 = x / y;  z4 = torch.div(x, y)\n",
        "\n",
        "print(\"Add:\", z1)\n",
        "print(\"Sub:\", z2)\n",
        "print(\"Mul:\", z3)\n",
        "print(\"Div:\", z4)\n",
        "\n",
        "y.add_(x)    # y += x\n",
        "y.sub_(x)    # y -= x\n",
        "y.mul_(x)    # y *= x\n",
        "#y.div_(x)    # y /= x\n",
        "\n",
        "# Operations: +, +=, -, -=, *, *=, /, /=, @"
      ],
      "metadata": {
        "colab": {
          "base_uri": "https://localhost:8080/"
        },
        "id": "vFaMNd-o0pv-",
        "outputId": "5943fca5-b4ee-488f-acff-0aa723ce4fc2"
      },
      "execution_count": 10,
      "outputs": [
        {
          "output_type": "stream",
          "name": "stdout",
          "text": [
            "tensor([[-1, -4],\n",
            "        [-2, -3]])\n",
            "tensor([[ 1,  0],\n",
            "        [ 4, -5]]) \n",
            "\n",
            "Add: tensor([[ 0, -4],\n",
            "        [ 2, -8]])\n",
            "Sub: tensor([[-2, -4],\n",
            "        [-6,  2]])\n",
            "Mul: tensor([[-1,  0],\n",
            "        [-8, 15]])\n",
            "Div: tensor([[-1.0000,    -inf],\n",
            "        [-0.5000,  0.6000]])\n"
          ]
        },
        {
          "output_type": "execute_result",
          "data": {
            "text/plain": [
              "tensor([[-1,  0],\n",
              "        [-8, 15]])"
            ]
          },
          "metadata": {},
          "execution_count": 10
        }
      ]
    },
    {
      "cell_type": "code",
      "source": [
        "x = torch.randint(-5, 6, (2, 3), dtype=torch.int32)\n",
        "y = torch.randint(-5, 6, (3, 2), dtype=torch.int32)\n",
        "print(x)\n",
        "print(y, '\\n')\n",
        "\n",
        "# Matrix multiplication\n",
        "z1 = x @ y\n",
        "z2 = x.mm(y)\n",
        "z3 = x.matmul(y)\n",
        "z4 = torch.empty(2, 2, dtype=torch.int32)\n",
        "torch.matmul(x, y, out=z4)\n",
        "print(z1, '\\n')\n",
        "torch.testing.assert_close(z1, z2)\n",
        "torch.testing.assert_close(z1, z3)\n",
        "torch.testing.assert_close(z1, z4)\n",
        "\n",
        "v = torch.randint(-5, 6, (3,), dtype=torch.int32)\n",
        "z1 = x.mv(v)                    # Multiply matrix and vector\n",
        "z2 = torch.mv(x, v)             # Multiply matrix and vector\n",
        "print(v)\n",
        "print(z1, '\\n')\n",
        "torch.testing.assert_close(z1, z2)\n",
        "\n",
        "u = torch.randint(-5, 6, (3,), dtype=torch.int32)\n",
        "z1 = v.dot(u)                   # Dot product of two vectors\n",
        "z2 = torch.dot(v, u)\n",
        "print(u)\n",
        "print(z1)\n",
        "torch.testing.assert_close(z1, z2)"
      ],
      "metadata": {
        "colab": {
          "base_uri": "https://localhost:8080/"
        },
        "id": "f1NKtupLxA1d",
        "outputId": "bdeb9da8-7d64-42ea-abee-c65fb7fa59e6"
      },
      "execution_count": 13,
      "outputs": [
        {
          "output_type": "stream",
          "name": "stdout",
          "text": [
            "tensor([[-3,  0,  0],\n",
            "        [ 4, -4,  1]], dtype=torch.int32)\n",
            "tensor([[ 5,  0],\n",
            "        [ 5,  3],\n",
            "        [-4, -4]], dtype=torch.int32) \n",
            "\n",
            "tensor([[-15,   0],\n",
            "        [ -4, -16]], dtype=torch.int32) \n",
            "\n",
            "tensor([-5,  5, -2], dtype=torch.int32)\n",
            "tensor([ 15, -42], dtype=torch.int32) \n",
            "\n",
            "tensor([-3,  3, -5], dtype=torch.int32)\n",
            "tensor(40, dtype=torch.int32)\n"
          ]
        }
      ]
    },
    {
      "cell_type": "code",
      "source": [
        "x = torch.randn(3, 4)\n",
        "print(x, '\\n')\n",
        "\n",
        "z = x.abs()\n",
        "z = torch.abs(x)\n",
        "x.abs_()\n",
        "print(z)\n",
        "\n",
        "z = x.exp()\n",
        "z = torch.exp(x)\n",
        "x.exp_()\n",
        "print(z)\n",
        "\n",
        "z = x.log()\n",
        "z = torch.log(x)\n",
        "x.log_()\n",
        "print(z)"
      ],
      "metadata": {
        "colab": {
          "base_uri": "https://localhost:8080/"
        },
        "id": "tN2p8BESnrQw",
        "outputId": "6f34c5df-cc09-4976-c481-768c4b940c23"
      },
      "execution_count": 14,
      "outputs": [
        {
          "output_type": "stream",
          "name": "stdout",
          "text": [
            "tensor([[ 0.0331, -1.3488, -0.7913, -0.9413],\n",
            "        [-1.8024,  0.0121, -0.3931, -0.8201],\n",
            "        [ 0.5513, -1.5801, -1.9916, -0.1655]]) \n",
            "\n",
            "tensor([[0.0331, 1.3488, 0.7913, 0.9413],\n",
            "        [1.8024, 0.0121, 0.3931, 0.8201],\n",
            "        [0.5513, 1.5801, 1.9916, 0.1655]])\n",
            "tensor([[1.0337, 3.8526, 2.2064, 2.5634],\n",
            "        [6.0645, 1.0122, 1.4816, 2.2707],\n",
            "        [1.7355, 4.8555, 7.3275, 1.1800]])\n",
            "tensor([[0.0331, 1.3488, 0.7913, 0.9413],\n",
            "        [1.8024, 0.0121, 0.3931, 0.8201],\n",
            "        [0.5513, 1.5801, 1.9916, 0.1655]])\n"
          ]
        }
      ]
    },
    {
      "cell_type": "code",
      "source": [
        "x = torch.randn(3, 4)\n",
        "print(x)\n",
        "\n",
        "z = x.t()\n",
        "z = torch.t(x)\n",
        "#x.t_()\n",
        "print(z)\n",
        "\n",
        "m0 = x.mean(0)\n",
        "m = x.mean()\n",
        "s = x.std()\n",
        "v = x.var()\n",
        "print(m.item(), s.item(), v.item())"
      ],
      "metadata": {
        "colab": {
          "base_uri": "https://localhost:8080/"
        },
        "id": "b3afVgwJpYZp",
        "outputId": "baa66c54-a8a7-4ee0-a942-9832e27ded30"
      },
      "execution_count": 15,
      "outputs": [
        {
          "output_type": "stream",
          "name": "stdout",
          "text": [
            "tensor([[-0.1808, -0.1792, -0.7453, -1.2639],\n",
            "        [-1.5805, -0.9060, -0.0443, -0.3282],\n",
            "        [-1.3062, -0.0144, -1.1739,  0.7442]])\n",
            "tensor([[-0.1808, -1.5805, -1.3062],\n",
            "        [-0.1792, -0.9060, -0.0144],\n",
            "        [-0.7453, -0.0443, -1.1739],\n",
            "        [-1.2639, -0.3282,  0.7442]])\n",
            "-0.5815389752388 0.689302384853363 0.47513777017593384\n"
          ]
        }
      ]
    },
    {
      "cell_type": "code",
      "source": [
        "x = torch.randint(-5, 6, (2, 3))\n",
        "print(x)\n",
        "\n",
        "s1 = x.sum()\n",
        "s2 = x.prod()\n",
        "s3 = x.max()\n",
        "s4 = x.min()\n",
        "print(s1, s2, s3, s4)"
      ],
      "metadata": {
        "colab": {
          "base_uri": "https://localhost:8080/"
        },
        "id": "vwZV8vbYuZVc",
        "outputId": "7eb5008b-6521-4e7c-ce46-fb6f41bc6a1c"
      },
      "execution_count": 16,
      "outputs": [
        {
          "output_type": "stream",
          "name": "stdout",
          "text": [
            "tensor([[-3,  1,  0],\n",
            "        [-5,  5, -2]])\n",
            "tensor(-4) tensor(0) tensor(5) tensor(-5)\n"
          ]
        }
      ]
    },
    {
      "cell_type": "code",
      "source": [
        "x = x = torch.randint(-5, 6, (3, 4), dtype=torch.int32)    # 3 x 4 = 12\n",
        "x1 = x.view(2, 6)           # 2 x 6 = 12\n",
        "x2 = x.view(12)             # 12\n",
        "print(x)\n",
        "print(x1)\n",
        "print(x2, '\\n')\n",
        "\n",
        "x = torch.arange(16)        # Tensor filled with 0, 1, ..., 15\n",
        "y = x.view(2, -1)           # -1 will be changed to 8, 2 x 8 = 16\n",
        "print('\\n', x)\n",
        "print(y)"
      ],
      "metadata": {
        "colab": {
          "base_uri": "https://localhost:8080/"
        },
        "id": "ov7TwdQik2o_",
        "outputId": "b119916e-4e9b-4bcf-cf9a-a24bc848834e"
      },
      "execution_count": 17,
      "outputs": [
        {
          "output_type": "stream",
          "name": "stdout",
          "text": [
            "tensor([[-4, -5,  0,  1],\n",
            "        [ 0, -4, -4,  4],\n",
            "        [ 5,  0, -4,  2]], dtype=torch.int32)\n",
            "tensor([[-4, -5,  0,  1,  0, -4],\n",
            "        [-4,  4,  5,  0, -4,  2]], dtype=torch.int32)\n",
            "tensor([-4, -5,  0,  1,  0, -4, -4,  4,  5,  0, -4,  2], dtype=torch.int32) \n",
            "\n",
            "\n",
            " tensor([ 0,  1,  2,  3,  4,  5,  6,  7,  8,  9, 10, 11, 12, 13, 14, 15])\n",
            "tensor([[ 0,  1,  2,  3,  4,  5,  6,  7],\n",
            "        [ 8,  9, 10, 11, 12, 13, 14, 15]])\n"
          ]
        }
      ]
    },
    {
      "cell_type": "code",
      "source": [
        "import numpy as np\n",
        "a = np.random.randint(0, 10, (2 ,3))\n",
        "print(a, '\\n')\n",
        "\n",
        "x = torch.from_numpy(a)         # Data is not being copied\n",
        "x *= 2\n",
        "print(x)\n",
        "print(a, '\\n')\n",
        "\n",
        "b = x.numpy()\n",
        "print(b)"
      ],
      "metadata": {
        "colab": {
          "base_uri": "https://localhost:8080/"
        },
        "id": "3N6Cse9dHGEW",
        "outputId": "b78a9867-2677-4772-bd02-5d07657cdd23"
      },
      "execution_count": 18,
      "outputs": [
        {
          "output_type": "stream",
          "name": "stdout",
          "text": [
            "[[8 3 9]\n",
            " [5 5 5]] \n",
            "\n",
            "tensor([[16,  6, 18],\n",
            "        [10, 10, 10]])\n",
            "[[16  6 18]\n",
            " [10 10 10]] \n",
            "\n",
            "[[16  6 18]\n",
            " [10 10 10]]\n"
          ]
        }
      ]
    },
    {
      "cell_type": "code",
      "source": [
        "x = torch.rand(1, 3)\n",
        "x = x.to(\"cpu\")                         # Move tensor to CPU device\n",
        "print(x)\n",
        "x = x.to(\"cuda\")                        # Move tensor to GPU device\n",
        "print(x)\n",
        "\n",
        "dev = torch.device('cuda' if torch.cuda.is_available() else 'cpu')\n",
        "y = torch.rand(1, 3).to(dev)            # Move tensor to GPU, if available\n",
        "print(y)\n",
        "\n",
        "z = torch.rand(1, 3, device=\"cuda\")     # Create tensor on GPU\n",
        "print(z)\n",
        "\n",
        "print(z.is_cuda)\n",
        "print(x.get_device())\n",
        "\n",
        "with torch.cuda.device(0):\n",
        "    a = torch.cuda.FloatTensor(5)"
      ],
      "metadata": {
        "colab": {
          "base_uri": "https://localhost:8080/"
        },
        "id": "ZeBuuLut1mlF",
        "outputId": "9cffbb68-9484-4732-a0f6-a30e9b02b78c"
      },
      "execution_count": 19,
      "outputs": [
        {
          "output_type": "stream",
          "name": "stdout",
          "text": [
            "tensor([[0.0801, 0.9230, 0.1197]])\n",
            "tensor([[0.0801, 0.9230, 0.1197]], device='cuda:0')\n",
            "tensor([[0.0440, 0.2097, 0.7291]], device='cuda:0')\n",
            "tensor([[0.0834, 0.5239, 0.9015]], device='cuda:0')\n",
            "True\n",
            "0\n"
          ]
        },
        {
          "output_type": "stream",
          "name": "stderr",
          "text": [
            "/tmp/ipython-input-19-1908805501.py:18: UserWarning: The torch.cuda.*DtypeTensor constructors are no longer recommended. It's best to use methods such as torch.tensor(data, dtype=*, device='cuda') to create tensors. (Triggered internally at /pytorch/torch/csrc/tensor/python_tensor.cpp:78.)\n",
            "  a = torch.cuda.FloatTensor(5)\n"
          ]
        }
      ]
    },
    {
      "cell_type": "code",
      "source": [
        "x = torch.rand(1, 3)\n",
        "print(x.is_pinned())\n",
        "\n",
        "x.pin_memory()              # Copies tensor to pinned memory, if it's not already pinned\n",
        "print(x.is_pinned())"
      ],
      "metadata": {
        "id": "Eq4MQ9HNM5TJ",
        "colab": {
          "base_uri": "https://localhost:8080/"
        },
        "outputId": "10fec8c8-ec2f-4ba3-efb7-2632af17f1cf"
      },
      "execution_count": 20,
      "outputs": [
        {
          "output_type": "stream",
          "name": "stdout",
          "text": [
            "False\n",
            "False\n"
          ]
        }
      ]
    },
    {
      "cell_type": "code",
      "source": [
        "x = torch.randn(3, requires_grad=True)\n",
        "print(x)                    # Created by the user, grad_fn is None\n",
        "print(x.grad_fn, '\\n')\n",
        "\n",
        "y = 2*x + 3                 # y is created as a result of operations, so it has a grad_fn\n",
        "print(y)\n",
        "print(y.grad_fn)"
      ],
      "metadata": {
        "colab": {
          "base_uri": "https://localhost:8080/"
        },
        "id": "Wt5euB7X3PKH",
        "outputId": "e36f9549-5c13-41e5-e1b4-9f698080209e"
      },
      "execution_count": 21,
      "outputs": [
        {
          "output_type": "stream",
          "name": "stdout",
          "text": [
            "tensor([ 2.4028, -0.9883, -1.5948], requires_grad=True)\n",
            "None \n",
            "\n",
            "tensor([ 7.8056,  1.0235, -0.1897], grad_fn=<AddBackward0>)\n",
            "<AddBackward0 object at 0x780b13d767d0>\n"
          ]
        }
      ]
    },
    {
      "cell_type": "code",
      "source": [
        "a = torch.randn(2, 2)\n",
        "print(a.requires_grad)\n",
        "a.requires_grad_(True)\n",
        "print(a.requires_grad)\n",
        "\n",
        "b = (a * a).sum()\n",
        "print(b.grad_fn, '\\n')\n",
        "\n",
        "a = torch.randn(2, 2, requires_grad=True)\n",
        "b = a.detach()                  # New tensor with the same content but no gradient computation\n",
        "print(\"a.requires_grad:\", a.requires_grad)\n",
        "print(\"b.requires_grad:\", b.requires_grad, '\\n')\n",
        "\n",
        "with torch.no_grad():\n",
        "    b = a**2 + 1\n",
        "    print(b.requires_grad)"
      ],
      "metadata": {
        "colab": {
          "base_uri": "https://localhost:8080/"
        },
        "id": "kMQf1v_eWorv",
        "outputId": "214e6e63-075f-4a29-c4a0-a1143c874428"
      },
      "execution_count": 22,
      "outputs": [
        {
          "output_type": "stream",
          "name": "stdout",
          "text": [
            "False\n",
            "True\n",
            "<SumBackward0 object at 0x780b13d75db0> \n",
            "\n",
            "a.requires_grad: True\n",
            "b.requires_grad: False \n",
            "\n",
            "False\n"
          ]
        }
      ]
    },
    {
      "cell_type": "code",
      "source": [
        "print(x.grad)\n",
        "y.backward(x)           # backward() accumulates (!) the gradient for this tensor into .grad attribute\n",
        "print(x.grad)           # dy/dx"
      ],
      "metadata": {
        "colab": {
          "base_uri": "https://localhost:8080/"
        },
        "id": "RzSLXs2USRjW",
        "outputId": "6dca8658-2d85-4a67-f81a-36daa073b89b"
      },
      "execution_count": 23,
      "outputs": [
        {
          "output_type": "stream",
          "name": "stdout",
          "text": [
            "None\n",
            "tensor([ 4.8056, -1.9765, -3.1897])\n"
          ]
        }
      ]
    }
  ]
}