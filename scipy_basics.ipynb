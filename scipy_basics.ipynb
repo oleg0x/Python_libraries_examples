{
  "nbformat": 4,
  "nbformat_minor": 0,
  "metadata": {
    "colab": {
      "provenance": [],
      "authorship_tag": "ABX9TyOOhzd/Xe1Ys9Z7oX7uE+pC",
      "include_colab_link": true
    },
    "kernelspec": {
      "name": "python3",
      "display_name": "Python 3"
    },
    "language_info": {
      "name": "python"
    }
  },
  "cells": [
    {
      "cell_type": "markdown",
      "metadata": {
        "id": "view-in-github",
        "colab_type": "text"
      },
      "source": [
        "<a href=\"https://colab.research.google.com/github/oleg0x/Python_libraries_examples/blob/main/scipy_basics.ipynb\" target=\"_parent\"><img src=\"https://colab.research.google.com/assets/colab-badge.svg\" alt=\"Open In Colab\"/></a>"
      ]
    },
    {
      "cell_type": "code",
      "execution_count": 2,
      "metadata": {
        "colab": {
          "base_uri": "https://localhost:8080/"
        },
        "id": "nJjKQ5M7ZVC9",
        "outputId": "79c6c17d-009f-49c7-a767-61b7d741a88d"
      },
      "outputs": [
        {
          "output_type": "stream",
          "name": "stdout",
          "text": [
            "['cluster', 'constants', 'datasets', 'differentiate', 'fft', 'fftpack', 'integrate', 'interpolate', 'io', 'linalg', 'ndimage', 'odr', 'optimize', 'signal', 'sparse', 'spatial', 'special', 'stats', 'LowLevelCallable', 'test', 'show_config', '__version__']\n"
          ]
        }
      ],
      "source": [
        "import numpy as np\n",
        "import scipy\n",
        "\n",
        "print(scipy.__all__)"
      ]
    },
    {
      "cell_type": "code",
      "source": [
        "print(scipy.constants.__all__)\n",
        "print(scipy.constants.g)\n",
        "print(scipy.constants.pi)"
      ],
      "metadata": {
        "colab": {
          "base_uri": "https://localhost:8080/"
        },
        "id": "JiuBf2fkaInL",
        "outputId": "5dcb8ba9-a842-445e-f6de-a254cb85bec0"
      },
      "execution_count": 11,
      "outputs": [
        {
          "output_type": "stream",
          "name": "stdout",
          "text": [
            "['Avogadro', 'Boltzmann', 'Btu', 'Btu_IT', 'Btu_th', 'ConstantWarning', 'G', 'Julian_year', 'N_A', 'Planck', 'R', 'Rydberg', 'Stefan_Boltzmann', 'Wien', 'acre', 'alpha', 'angstrom', 'arcmin', 'arcminute', 'arcsec', 'arcsecond', 'astronomical_unit', 'atm', 'atmosphere', 'atomic_mass', 'atto', 'au', 'bar', 'barrel', 'bbl', 'blob', 'c', 'calorie', 'calorie_IT', 'calorie_th', 'carat', 'centi', 'codata', 'constants', 'convert_temperature', 'day', 'deci', 'degree', 'degree_Fahrenheit', 'deka', 'dyn', 'dyne', 'e', 'eV', 'electron_mass', 'electron_volt', 'elementary_charge', 'epsilon_0', 'erg', 'exa', 'exbi', 'femto', 'fermi', 'find', 'fine_structure', 'fluid_ounce', 'fluid_ounce_US', 'fluid_ounce_imp', 'foot', 'g', 'gallon', 'gallon_US', 'gallon_imp', 'gas_constant', 'gibi', 'giga', 'golden', 'golden_ratio', 'grain', 'gram', 'gravitational_constant', 'h', 'hbar', 'hectare', 'hecto', 'horsepower', 'hour', 'hp', 'inch', 'k', 'kgf', 'kibi', 'kilo', 'kilogram_force', 'kmh', 'knot', 'lambda2nu', 'lb', 'lbf', 'light_year', 'liter', 'litre', 'long_ton', 'm_e', 'm_n', 'm_p', 'm_u', 'mach', 'mebi', 'mega', 'metric_ton', 'micro', 'micron', 'mil', 'mile', 'milli', 'minute', 'mmHg', 'mph', 'mu_0', 'nano', 'nautical_mile', 'neutron_mass', 'nu2lambda', 'ounce', 'oz', 'parsec', 'pebi', 'peta', 'physical_constants', 'pi', 'pico', 'point', 'pound', 'pound_force', 'precision', 'proton_mass', 'psi', 'pt', 'quecto', 'quetta', 'ronna', 'ronto', 'short_ton', 'sigma', 'slinch', 'slug', 'speed_of_light', 'speed_of_sound', 'stone', 'survey_foot', 'survey_mile', 'tebi', 'tera', 'ton_TNT', 'torr', 'troy_ounce', 'troy_pound', 'u', 'unit', 'value', 'week', 'yard', 'year', 'yobi', 'yocto', 'yotta', 'zebi', 'zepto', 'zero_Celsius', 'zetta']\n",
            "9.80665\n",
            "3.141592653589793\n"
          ]
        }
      ]
    },
    {
      "cell_type": "code",
      "source": [
        "# Recomendation: Use scipy.linalg instead of numpy.linalg\n",
        "from scipy import linalg\n",
        "\n",
        "A = np.array([[1, 3, 5], [2, 5, 1], [2, 3, 8]])\n",
        "print(A, '\\n')\n",
        "\n",
        "d = linalg.det(A)\n",
        "print(d, '\\n')\n",
        "\n",
        "B = linalg.inv(A)\n",
        "print(B)"
      ],
      "metadata": {
        "colab": {
          "base_uri": "https://localhost:8080/"
        },
        "id": "vVABooRPg3a8",
        "outputId": "d6a7ddbe-2ecf-4436-9e6b-2ff8026ffea9"
      },
      "execution_count": 27,
      "outputs": [
        {
          "output_type": "stream",
          "name": "stdout",
          "text": [
            "[[1 3 5]\n",
            " [2 5 1]\n",
            " [2 3 8]] \n",
            "\n",
            "-25.000000000000004 \n",
            "\n",
            "[[-1.48  0.36  0.88]\n",
            " [ 0.56  0.08 -0.36]\n",
            " [ 0.16 -0.12  0.04]]\n"
          ]
        }
      ]
    },
    {
      "cell_type": "code",
      "source": [
        "from scipy import linalg\n",
        "\n",
        "A = np.array([[1, 2], [3, 4]])\n",
        "b = np.array([[5], [6]])\n",
        "print(A, '\\n', b, '\\n')\n",
        "\n",
        "x = np.linalg.solve(A, b)           # Fast solving a linear system Ax = b\n",
        "print(x, '\\n')\n",
        "\n",
        "print(A @ x - b)                    # Check"
      ],
      "metadata": {
        "colab": {
          "base_uri": "https://localhost:8080/"
        },
        "id": "uGcGSap6pbyK",
        "outputId": "d635501d-d819-4438-d10a-fc555fedf177"
      },
      "execution_count": 32,
      "outputs": [
        {
          "output_type": "stream",
          "name": "stdout",
          "text": [
            "[[1 2]\n",
            " [3 4]] \n",
            " [[5]\n",
            " [6]] \n",
            "\n",
            "[[-4. ]\n",
            " [ 4.5]] \n",
            "\n",
            "[[0.]\n",
            " [0.]]\n"
          ]
        }
      ]
    },
    {
      "cell_type": "code",
      "source": [
        "from scipy import linalg\n",
        "\n",
        "eigenvals, eigenvecs = linalg.eig(A)\n",
        "print(\"Eigenvalues:\", eigenvals)\n",
        "print(\"Eigenvectors (as columns):\\n\", eigenvecs, '\\n')\n",
        "\n",
        "# Verification\n",
        "for i in range(len(eigenvals)):\n",
        "    v = eigenvecs[:, i]\n",
        "    lambda_v = eigenvals[i] * v\n",
        "    Av = A @ v                      # Matrix multiplication\n",
        "    print(f\"Verification for eigenpair {i+1}:\")\n",
        "    print(\"A @ v:\", Av)\n",
        "    print(\"λ * v:\", lambda_v)\n",
        "    print(\"Are they close?\", np.allclose(Av, lambda_v))"
      ],
      "metadata": {
        "colab": {
          "base_uri": "https://localhost:8080/"
        },
        "id": "eN_mGhayj2i7",
        "outputId": "b7db308b-0630-47e4-fbfb-ae02863da3b9"
      },
      "execution_count": 28,
      "outputs": [
        {
          "output_type": "stream",
          "name": "stdout",
          "text": [
            "Eigenvalues: [10.5540456 +0.j -0.5873064 +0.j  4.03326081+0.j]\n",
            "Eigenvectors (as columns):\n",
            " [[-0.51686204 -0.94195144  0.11527992]\n",
            " [-0.32845853  0.31778071 -0.81936883]\n",
            " [-0.79054957  0.10836468  0.56155611]] \n",
            "\n",
            "Verification for eigenpair 1:\n",
            "A @ v: [-5.4549855  -3.46656629 -8.34349626]\n",
            "λ * v: [-5.4549855 +0.j -3.46656629+0.j -8.34349626+0.j]\n",
            "Are they close? True\n",
            "Verification for eigenpair 2:\n",
            "A @ v: [ 0.55321411 -0.18663465 -0.06364327]\n",
            "λ * v: [ 0.55321411-0.j -0.18663465+0.j -0.06364327+0.j]\n",
            "Are they close? True\n",
            "Verification for eigenpair 3:\n",
            "A @ v: [ 0.464954   -3.30472818  2.26490225]\n",
            "λ * v: [ 0.464954  +0.j -3.30472818+0.j  2.26490225+0.j]\n",
            "Are they close? True\n"
          ]
        }
      ]
    },
    {
      "cell_type": "code",
      "source": [
        "from scipy import integrate\n",
        "\n",
        "invexp = lambda x: np.exp(-x)\n",
        "z, abserr = integrate.quad(invexp, 0, np.inf)\n",
        "print(z)"
      ],
      "metadata": {
        "colab": {
          "base_uri": "https://localhost:8080/"
        },
        "id": "UM-PtCUuGVCi",
        "outputId": "37c46911-6519-4a9c-9958-773b765ac59e"
      },
      "execution_count": 4,
      "outputs": [
        {
          "output_type": "stream",
          "name": "stdout",
          "text": [
            "1.0000000000000002\n"
          ]
        }
      ]
    }
  ]
}