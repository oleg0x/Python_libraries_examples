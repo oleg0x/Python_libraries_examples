{
  "nbformat": 4,
  "nbformat_minor": 0,
  "metadata": {
    "colab": {
      "provenance": [],
      "authorship_tag": "ABX9TyPzTpboI0WzmO3PnCmPiHEd",
      "include_colab_link": true
    },
    "kernelspec": {
      "name": "python3",
      "display_name": "Python 3"
    },
    "language_info": {
      "name": "python"
    }
  },
  "cells": [
    {
      "cell_type": "markdown",
      "metadata": {
        "id": "view-in-github",
        "colab_type": "text"
      },
      "source": [
        "<a href=\"https://colab.research.google.com/github/oleg0x/Python_libraries_examples/blob/main/sklearn_basics.ipynb\" target=\"_parent\"><img src=\"https://colab.research.google.com/assets/colab-badge.svg\" alt=\"Open In Colab\"/></a>"
      ]
    },
    {
      "cell_type": "code",
      "execution_count": 4,
      "metadata": {
        "id": "WDcAwlW1s9L0"
      },
      "outputs": [],
      "source": [
        "import sklearn"
      ]
    },
    {
      "cell_type": "code",
      "source": [
        "print(sklearn.__version__)\n",
        "print(sklearn.__all__)"
      ],
      "metadata": {
        "colab": {
          "base_uri": "https://localhost:8080/"
        },
        "id": "I2uPlQGAtDOZ",
        "outputId": "3d8bb32a-4f69-482e-e1de-8f55b750555e"
      },
      "execution_count": 8,
      "outputs": [
        {
          "output_type": "stream",
          "name": "stdout",
          "text": [
            "1.6.1\n",
            "['calibration', 'cluster', 'covariance', 'cross_decomposition', 'datasets', 'decomposition', 'dummy', 'ensemble', 'exceptions', 'experimental', 'externals', 'feature_extraction', 'feature_selection', 'frozen', 'gaussian_process', 'inspection', 'isotonic', 'kernel_approximation', 'kernel_ridge', 'linear_model', 'manifold', 'metrics', 'mixture', 'model_selection', 'multiclass', 'multioutput', 'naive_bayes', 'neighbors', 'neural_network', 'pipeline', 'preprocessing', 'random_projection', 'semi_supervised', 'svm', 'tree', 'discriminant_analysis', 'impute', 'compose', 'clone', 'get_config', 'set_config', 'config_context', 'show_versions']\n"
          ]
        }
      ]
    },
    {
      "cell_type": "code",
      "source": [
        "print(sklearn.datasets.__all__)"
      ],
      "metadata": {
        "colab": {
          "base_uri": "https://localhost:8080/"
        },
        "id": "lq1HH_5ovhXY",
        "outputId": "c5123c58-f180-435a-f758-3b6cb58dc8ed"
      },
      "execution_count": 10,
      "outputs": [
        {
          "output_type": "stream",
          "name": "stdout",
          "text": [
            "['clear_data_home', 'dump_svmlight_file', 'fetch_20newsgroups', 'fetch_20newsgroups_vectorized', 'fetch_file', 'fetch_lfw_pairs', 'fetch_lfw_people', 'fetch_olivetti_faces', 'fetch_species_distributions', 'fetch_california_housing', 'fetch_covtype', 'fetch_rcv1', 'fetch_kddcup99', 'fetch_openml', 'get_data_home', 'load_diabetes', 'load_digits', 'load_files', 'load_iris', 'load_breast_cancer', 'load_linnerud', 'load_sample_image', 'load_sample_images', 'load_svmlight_file', 'load_svmlight_files', 'load_wine', 'make_biclusters', 'make_blobs', 'make_circles', 'make_classification', 'make_checkerboard', 'make_friedman1', 'make_friedman2', 'make_friedman3', 'make_gaussian_quantiles', 'make_hastie_10_2', 'make_low_rank_matrix', 'make_moons', 'make_multilabel_classification', 'make_regression', 'make_s_curve', 'make_sparse_coded_signal', 'make_sparse_spd_matrix', 'make_sparse_uncorrelated', 'make_spd_matrix', 'make_swiss_roll']\n"
          ]
        }
      ]
    },
    {
      "cell_type": "code",
      "source": [
        "sklearn.datasets.load_digits"
      ],
      "metadata": {
        "colab": {
          "base_uri": "https://localhost:8080/",
          "height": 187
        },
        "id": "ekgwbq7ryfWo",
        "outputId": "a5c43702-b037-425f-b379-c824b6d41337"
      },
      "execution_count": 19,
      "outputs": [
        {
          "output_type": "execute_result",
          "data": {
            "text/plain": [
              "<function sklearn.datasets._base.load_digits(*, n_class=10, return_X_y=False, as_frame=False)>"
            ],
            "text/html": [
              "<div style=\"max-width:800px; border: 1px solid var(--colab-border-color);\"><style>\n",
              "      pre.function-repr-contents {\n",
              "        overflow-x: auto;\n",
              "        padding: 8px 12px;\n",
              "        max-height: 500px;\n",
              "      }\n",
              "\n",
              "      pre.function-repr-contents.function-repr-contents-collapsed {\n",
              "        cursor: pointer;\n",
              "        max-height: 100px;\n",
              "      }\n",
              "    </style>\n",
              "    <pre style=\"white-space: initial; background:\n",
              "         var(--colab-secondary-surface-color); padding: 8px 12px;\n",
              "         border-bottom: 1px solid var(--colab-border-color);\"><b>sklearn.datasets._base.load_digits</b><br/>def load_digits(*, n_class=10, return_X_y=False, as_frame=False)</pre><pre class=\"function-repr-contents function-repr-contents-collapsed\" style=\"\"><a class=\"filepath\" style=\"display:none\" href=\"#\">/usr/local/lib/python3.11/dist-packages/sklearn/datasets/_base.py</a>Load and return the digits dataset (classification).\n",
              "\n",
              "Each datapoint is a 8x8 image of a digit.\n",
              "\n",
              "=================   ==============\n",
              "Classes                         10\n",
              "Samples per class             ~180\n",
              "Samples total                 1797\n",
              "Dimensionality                  64\n",
              "Features             integers 0-16\n",
              "=================   ==============\n",
              "\n",
              "This is a copy of the test set of the UCI ML hand-written digits datasets\n",
              "https://archive.ics.uci.edu/ml/datasets/Optical+Recognition+of+Handwritten+Digits\n",
              "\n",
              "Read more in the :ref:`User Guide &lt;digits_dataset&gt;`.\n",
              "\n",
              "Parameters\n",
              "----------\n",
              "n_class : int, default=10\n",
              "    The number of classes to return. Between 0 and 10.\n",
              "\n",
              "return_X_y : bool, default=False\n",
              "    If True, returns ``(data, target)`` instead of a Bunch object.\n",
              "    See below for more information about the `data` and `target` object.\n",
              "\n",
              "    .. versionadded:: 0.18\n",
              "\n",
              "as_frame : bool, default=False\n",
              "    If True, the data is a pandas DataFrame including columns with\n",
              "    appropriate dtypes (numeric). The target is\n",
              "    a pandas DataFrame or Series depending on the number of target columns.\n",
              "    If `return_X_y` is True, then (`data`, `target`) will be pandas\n",
              "    DataFrames or Series as described below.\n",
              "\n",
              "    .. versionadded:: 0.23\n",
              "\n",
              "Returns\n",
              "-------\n",
              "data : :class:`~sklearn.utils.Bunch`\n",
              "    Dictionary-like object, with the following attributes.\n",
              "\n",
              "    data : {ndarray, dataframe} of shape (1797, 64)\n",
              "        The flattened data matrix. If `as_frame=True`, `data` will be\n",
              "        a pandas DataFrame.\n",
              "    target: {ndarray, Series} of shape (1797,)\n",
              "        The classification target. If `as_frame=True`, `target` will be\n",
              "        a pandas Series.\n",
              "    feature_names: list\n",
              "        The names of the dataset columns.\n",
              "    target_names: list\n",
              "        The names of target classes.\n",
              "\n",
              "        .. versionadded:: 0.20\n",
              "\n",
              "    frame: DataFrame of shape (1797, 65)\n",
              "        Only present when `as_frame=True`. DataFrame with `data` and\n",
              "        `target`.\n",
              "\n",
              "        .. versionadded:: 0.23\n",
              "    images: {ndarray} of shape (1797, 8, 8)\n",
              "        The raw image data.\n",
              "    DESCR: str\n",
              "        The full description of the dataset.\n",
              "\n",
              "(data, target) : tuple if ``return_X_y`` is True\n",
              "    A tuple of two ndarrays by default. The first contains a 2D ndarray of\n",
              "    shape (1797, 64) with each row representing one sample and each column\n",
              "    representing the features. The second ndarray of shape (1797) contains\n",
              "    the target samples.  If `as_frame=True`, both arrays are pandas objects,\n",
              "    i.e. `X` a dataframe and `y` a series.\n",
              "\n",
              "    .. versionadded:: 0.18\n",
              "\n",
              "Examples\n",
              "--------\n",
              "To load the data and visualize the images::\n",
              "\n",
              "    &gt;&gt;&gt; from sklearn.datasets import load_digits\n",
              "    &gt;&gt;&gt; digits = load_digits()\n",
              "    &gt;&gt;&gt; print(digits.data.shape)\n",
              "    (1797, 64)\n",
              "    &gt;&gt;&gt; import matplotlib.pyplot as plt\n",
              "    &gt;&gt;&gt; plt.gray()\n",
              "    &gt;&gt;&gt; plt.matshow(digits.images[0])\n",
              "    &lt;...&gt;\n",
              "    &gt;&gt;&gt; plt.show()</pre>\n",
              "      <script>\n",
              "      if (google.colab.kernel.accessAllowed && google.colab.files && google.colab.files.view) {\n",
              "        for (const element of document.querySelectorAll('.filepath')) {\n",
              "          element.style.display = 'block'\n",
              "          element.onclick = (event) => {\n",
              "            event.preventDefault();\n",
              "            event.stopPropagation();\n",
              "            google.colab.files.view(element.textContent, 902);\n",
              "          };\n",
              "        }\n",
              "      }\n",
              "      for (const element of document.querySelectorAll('.function-repr-contents')) {\n",
              "        element.onclick = (event) => {\n",
              "          event.preventDefault();\n",
              "          event.stopPropagation();\n",
              "          element.classList.toggle('function-repr-contents-collapsed');\n",
              "        };\n",
              "      }\n",
              "      </script>\n",
              "      </div>"
            ]
          },
          "metadata": {},
          "execution_count": 19
        }
      ]
    },
    {
      "cell_type": "code",
      "source": [
        "from sklearn.datasets import load_digits\n",
        "digits = load_digits()\n",
        "print(digits.data.shape)\n",
        "\n",
        "import matplotlib.pyplot as plt\n",
        "plt.gray()\n",
        "plt.matshow(digits.images[0])\n",
        "plt.show()"
      ],
      "metadata": {
        "colab": {
          "base_uri": "https://localhost:8080/",
          "height": 472
        },
        "id": "w1KANB6c1ysk",
        "outputId": "9a1ba41d-5972-4083-a787-d808fe4db29b"
      },
      "execution_count": 22,
      "outputs": [
        {
          "output_type": "stream",
          "name": "stdout",
          "text": [
            "(1797, 64)\n"
          ]
        },
        {
          "output_type": "display_data",
          "data": {
            "text/plain": [
              "<Figure size 640x480 with 0 Axes>"
            ]
          },
          "metadata": {}
        },
        {
          "output_type": "display_data",
          "data": {
            "text/plain": [
              "<Figure size 480x480 with 1 Axes>"
            ],
            "image/png": "[encoded data removed]"
          },
          "metadata": {}
        }
      ]
    },
    {
      "cell_type": "code",
      "source": [
        "from sklearn import datasets, linear_model, metrics, model_selection\n",
        "\n",
        "X, y = datasets.load_digits(return_X_y=True)\n",
        "\n",
        "X_train, X_test, y_train, y_test = model_selection.train_test_split(X, y, test_size=0.2, random_state=42)\n",
        "print(X_train.shape, X_test.shape, y_train.shape, y_test.shape)\n",
        "\n",
        "model = linear_model.LogisticRegression(max_iter=500)\n",
        "model.fit(X_train, y_train)\n",
        "\n",
        "y_pred = model.predict(X_test)\n",
        "print(y_pred.shape)\n",
        "print(y_pred)\n",
        "\n",
        "accuracy = metrics.accuracy_score(y_test, y_pred)\n",
        "print(f\"Accuracy: {accuracy:.2f}\")"
      ],
      "metadata": {
        "colab": {
          "base_uri": "https://localhost:8080/"
        },
        "id": "TvB8pTaQy9PY",
        "outputId": "bf8f5231-55a3-441e-8a4b-f78274c10397"
      },
      "execution_count": 33,
      "outputs": [
        {
          "output_type": "stream",
          "name": "stdout",
          "text": [
            "(1437, 64) (360, 64) (1437,) (360,)\n",
            "(360,)\n",
            "[6 9 3 7 2 1 5 2 5 2 1 9 4 0 4 2 3 7 8 8 4 3 9 7 5 6 3 5 6 3 4 9 1 4 4 6 9\n",
            " 4 7 6 6 9 1 3 6 1 3 0 6 5 5 1 3 5 6 0 9 0 0 1 0 4 5 2 4 5 7 0 7 5 9 5 5 4\n",
            " 7 0 4 5 5 9 9 0 2 3 8 0 6 4 4 9 1 2 8 3 5 2 9 0 4 4 4 3 5 3 1 3 5 9 4 2 7\n",
            " 7 4 4 1 9 2 7 8 7 2 6 9 4 0 7 2 7 5 8 7 5 7 5 0 6 6 4 2 8 0 9 4 6 9 9 6 9\n",
            " 0 5 5 6 6 0 6 4 3 9 3 8 7 2 9 0 4 5 3 6 5 9 9 8 4 2 1 3 7 7 2 2 3 9 8 0 3\n",
            " 2 2 5 6 9 9 4 1 5 4 2 3 6 4 8 5 9 5 7 8 9 4 8 1 5 4 4 9 6 1 8 6 0 4 5 2 7\n",
            " 1 6 4 5 6 0 3 2 3 6 7 1 9 1 4 7 6 5 8 5 5 1 5 2 8 8 9 9 7 6 2 2 2 3 4 8 8\n",
            " 3 6 0 9 7 7 0 1 0 4 5 1 5 3 6 0 4 1 0 0 3 6 5 9 7 3 5 5 9 9 8 5 3 3 2 0 5\n",
            " 8 3 4 0 2 4 6 4 3 4 5 0 5 2 1 3 1 4 1 1 7 0 1 5 2 1 2 8 7 0 6 4 8 8 5 1 8\n",
            " 4 5 8 7 9 8 6 0 6 2 0 7 9 8 9 5 2 7 7 1 8 7 4 3 8 3 5]\n",
            "Accuracy: 0.97\n"
          ]
        }
      ]
    },
    {
      "cell_type": "code",
      "source": [],
      "metadata": {
        "id": "Uk5OSDos0GDo"
      },
      "execution_count": null,
      "outputs": []
    }
  ]
}